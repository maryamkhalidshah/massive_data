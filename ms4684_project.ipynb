{
 "cells": [
  {
   "cell_type": "markdown",
   "id": "45e24818-874c-4a1c-bbec-31995beead19",
   "metadata": {},
   "source": [
    "# Reddit Project Starter Script"
   ]
  },
  {
   "cell_type": "markdown",
   "id": "31472461-d990-4b83-a1ee-79e9f41f532e",
   "metadata": {},
   "source": [
    "### Putting data into your own bucket"
   ]
  },
  {
   "cell_type": "markdown",
   "id": "126e3bc1-53f5-4e01-90ba-f0206e1693e8",
   "metadata": {},
   "source": [
    "In the following cell, you will copy your assigned subreddit from the central teaching bucket to your own persaonl bucket. This cell MUST only be executed once per account!!"
   ]
  },
  {
   "cell_type": "code",
   "execution_count": null,
   "id": "3606e95b-18ea-4075-abcc-1dce0b07e203",
   "metadata": {},
   "outputs": [],
   "source": [
    "# already ran this in the terminal\n",
    "#!aws s3 cp s3://bigdatateaching/reddit/subreddits/[[YOUR-SUBREDDIT-NAME]]/ s3://[[YOUR-BUCKET-NAME]]/reddit --recursive"
   ]
  },
  {
   "cell_type": "markdown",
   "id": "598eb41d-197c-4f0d-b207-a229e211d97c",
   "metadata": {},
   "source": [
    "### Reading your entire dataset"
   ]
  },
  {
   "cell_type": "code",
   "execution_count": 1,
   "id": "b9dc1d0a-0264-4efe-86d4-3d0756c99c9f",
   "metadata": {},
   "outputs": [],
   "source": [
    "import findspark\n",
    "findspark.init()"
   ]
  },
  {
   "cell_type": "code",
   "execution_count": 2,
   "id": "9db156f0-e1b0-4dad-99b2-a0a247af9e68",
   "metadata": {},
   "outputs": [],
   "source": [
    "import pyspark.sql.functions as f\n",
    "import matplotlib\n",
    "import matplotlib.pyplot as plt\n",
    "import seaborn as sb\n",
    "from pyspark.sql.functions import col, lit\n",
    "from pyspark.sql import SparkSession"
   ]
  },
  {
   "cell_type": "code",
   "execution_count": 3,
   "id": "55306f3d-7c5f-4e3b-8378-76daec3eb27c",
   "metadata": {},
   "outputs": [],
   "source": [
    "from pyspark.sql.functions import isnan, when, count, sum, to_timestamp, dayofweek, hour, minute, second #, percentile_approx\n",
    "from pyspark.sql.types import IntegerType"
   ]
  },
  {
   "cell_type": "code",
   "execution_count": 4,
   "id": "3a82ccb4-e218-4821-a2fd-784909105238",
   "metadata": {},
   "outputs": [
    {
     "name": "stderr",
     "output_type": "stream",
     "text": [
      "Setting default log level to \"WARN\".\n",
      "To adjust logging level use sc.setLogLevel(newLevel). For SparkR, use setLogLevel(newLevel).\n",
      "22/05/04 01:10:26 WARN Client: Neither spark.yarn.jars nor spark.yarn.archive is set, falling back to uploading libraries under SPARK_HOME.\n"
     ]
    }
   ],
   "source": [
    "spark = SparkSession.builder.appName(\"reddit\").getOrCreate()"
   ]
  },
  {
   "cell_type": "markdown",
   "id": "a6564496-f89d-4cd0-8920-1b9ab3448ea1",
   "metadata": {},
   "source": [
    "Make sure your SparkSession is active:"
   ]
  },
  {
   "cell_type": "code",
   "execution_count": 5,
   "id": "705a305d-7dbb-4c08-a7f7-0fee39840510",
   "metadata": {},
   "outputs": [
    {
     "data": {
      "text/html": [
       "\n",
       "            <div>\n",
       "                <p><b>SparkSession - in-memory</b></p>\n",
       "                \n",
       "        <div>\n",
       "            <p><b>SparkContext</b></p>\n",
       "\n",
       "            <p><a href=\"http://ip-172-31-65-104.ec2.internal:4040\">Spark UI</a></p>\n",
       "\n",
       "            <dl>\n",
       "              <dt>Version</dt>\n",
       "                <dd><code>v3.0.0-amzn-0</code></dd>\n",
       "              <dt>Master</dt>\n",
       "                <dd><code>yarn</code></dd>\n",
       "              <dt>AppName</dt>\n",
       "                <dd><code>reddit</code></dd>\n",
       "            </dl>\n",
       "        </div>\n",
       "        \n",
       "            </div>\n",
       "        "
      ],
      "text/plain": [
       "<pyspark.sql.session.SparkSession at 0x7f37642566d0>"
      ]
     },
     "execution_count": 5,
     "metadata": {},
     "output_type": "execute_result"
    }
   ],
   "source": [
    "spark"
   ]
  },
  {
   "cell_type": "code",
   "execution_count": 6,
   "id": "edcfea00-1b0c-4c76-94c8-672551d39aba",
   "metadata": {},
   "outputs": [
    {
     "name": "stderr",
     "output_type": "stream",
     "text": [
      "                                                                                \r"
     ]
    }
   ],
   "source": [
    "df_full = spark.read.parquet('s3://ms4684-projectdata/reddit')"
   ]
  },
  {
   "cell_type": "code",
   "execution_count": 7,
   "id": "5cd34f43-88b7-4433-b687-b074a3995c58",
   "metadata": {},
   "outputs": [
    {
     "name": "stderr",
     "output_type": "stream",
     "text": [
      "22/05/04 01:10:51 WARN package: Truncated the string representation of a plan since it was too large. This behavior can be adjusted by setting 'spark.sql.debug.maxToStringFields'.\n",
      "                                                                                \r"
     ]
    },
    {
     "data": {
      "text/plain": [
       "41321070"
      ]
     },
     "execution_count": 7,
     "metadata": {},
     "output_type": "execute_result"
    }
   ],
   "source": [
    "df_full.count()"
   ]
  },
  {
   "cell_type": "markdown",
   "id": "e6e43cd2-e0bf-4199-9bac-54f8062ee449",
   "metadata": {},
   "source": [
    "There are 41.3 million records in the dataset."
   ]
  },
  {
   "cell_type": "markdown",
   "id": "4674dd19-4610-43bf-9add-be638eea625f",
   "metadata": {},
   "source": [
    "### Reading one month worth of data"
   ]
  },
  {
   "cell_type": "code",
   "execution_count": null,
   "id": "ef20a13c-78f1-4e49-b1a2-4e79e885cb19",
   "metadata": {},
   "outputs": [],
   "source": [
    "# run in terminal (without !)\n",
    "#!aws s3 ls s3://ms4684-projectdata/reddit/"
   ]
  },
  {
   "cell_type": "code",
   "execution_count": 8,
   "id": "c1ea9584-1436-4b0d-a9ef-4d33cb0b41bb",
   "metadata": {},
   "outputs": [],
   "source": [
    "df = spark.read.parquet('s3://ms4684-projectdata/reddit/ym_partition=202106')"
   ]
  },
  {
   "cell_type": "code",
   "execution_count": 9,
   "id": "d582b200-8ce3-44a5-ae39-cceb9af83c46",
   "metadata": {},
   "outputs": [
    {
     "data": {
      "text/plain": [
       "1434016"
      ]
     },
     "execution_count": 9,
     "metadata": {},
     "output_type": "execute_result"
    }
   ],
   "source": [
    "df.count()"
   ]
  },
  {
   "cell_type": "markdown",
   "id": "621f2dcd-f3c8-4519-8d3f-e3b880910a6a",
   "metadata": {},
   "source": [
    "The data for the one month that we have read in has 1.4 million records."
   ]
  },
  {
   "cell_type": "markdown",
   "id": "add5d9f8-b75b-45e4-a290-77afb2762332",
   "metadata": {},
   "source": [
    "### Developing on a small piece of your data"
   ]
  },
  {
   "cell_type": "markdown",
   "id": "239fb163-76e5-45be-9cf8-d1cd2e9279c2",
   "metadata": {},
   "source": [
    "It's helpful to develop a small piece of data to test code on before running the code on the full dataset."
   ]
  },
  {
   "cell_type": "code",
   "execution_count": 10,
   "id": "19a87477-c0d5-4563-a82a-4f0e7b57c0ba",
   "metadata": {},
   "outputs": [],
   "source": [
    "# selecting 10,000 records\n",
    "df_small = df.limit(10000)"
   ]
  },
  {
   "cell_type": "code",
   "execution_count": 11,
   "id": "cf34c1bc-9c61-4423-b1ee-efa2cc19a1d3",
   "metadata": {},
   "outputs": [
    {
     "data": {
      "text/plain": [
       "10000"
      ]
     },
     "execution_count": 11,
     "metadata": {},
     "output_type": "execute_result"
    }
   ],
   "source": [
    "# check count\n",
    "df_small.count()"
   ]
  },
  {
   "cell_type": "markdown",
   "id": "d454097a-c906-48ab-b22e-a8d5d4b55fef",
   "metadata": {},
   "source": [
    "### Explortatory Analysis"
   ]
  },
  {
   "cell_type": "markdown",
   "id": "c8655a9b-c648-4df6-abba-d6c23c7a3408",
   "metadata": {},
   "source": [
    "- Explore, assess and visualize the data.\n",
    "- Aggregate, count, and summarize.\n",
    "- Create graphs, tables, etc, and explain your findings in writing.\n",
    "- Clean data if necessary.\n",
    "- Extract useful information from the text of the comments to create additional variables in your dataset."
   ]
  },
  {
   "cell_type": "code",
   "execution_count": 12,
   "id": "9d21d097-ea52-456c-b227-da37dfa9dcd0",
   "metadata": {},
   "outputs": [
    {
     "data": {
      "text/plain": [
       "41321070"
      ]
     },
     "execution_count": 12,
     "metadata": {},
     "output_type": "execute_result"
    }
   ],
   "source": [
    "# number of rows\n",
    "df_full.count()"
   ]
  },
  {
   "cell_type": "code",
   "execution_count": 13,
   "id": "8476a35a-2217-4c35-b2b7-622a670233cc",
   "metadata": {},
   "outputs": [
    {
     "name": "stderr",
     "output_type": "stream",
     "text": [
      "[Stage 14:>                                                         (0 + 1) / 1]\r"
     ]
    },
    {
     "name": "stdout",
     "output_type": "stream",
     "text": [
      "+-------------+----------------+-----------------+------------------+-----------------------------+----------------------+---------------------+------------------------+-----------------+-----------------------+-----------------+---------------+--------------------+--------------+--------+--------------------+--------+------------+---------+-------------------------------+----------------+------------+----------------+-----------+-------------+------+------+--------+-------+------------+---------+------+---------+----------+--------------------+-----------+--------------+------------+-----+------------+--------+------------+-----------------------+--------------+----------------+---------------------+--------------+--------------+--------+--------------+------------+\n",
      "|all_awardings|associated_award|           author|author_created_utc|author_flair_background_color|author_flair_css_class|author_flair_richtext|author_flair_template_id|author_flair_text|author_flair_text_color|author_flair_type|author_fullname|author_patreon_flair|author_premium|awarders|                body|can_gild|can_mod_post|collapsed|collapsed_because_crowd_control|collapsed_reason|comment_type|controversiality|created_utc|distinguished|edited|gilded|gildings|     id|is_submitter|  link_id|locked|no_follow| parent_id|           permalink|quarantined|removal_reason|retrieved_on|score|send_replies|stickied|subreddit_id|subreddit_name_prefixed|subreddit_type|top_awarded_type|total_awards_received|treatment_tags|author_cakeday|editable|media_metadata|ym_partition|\n",
      "+-------------+----------------+-----------------+------------------+-----------------------------+----------------------+---------------------+------------------------+-----------------+-----------------------+-----------------+---------------+--------------------+--------------+--------+--------------------+--------+------------+---------+-------------------------------+----------------+------------+----------------+-----------+-------------+------+------+--------+-------+------------+---------+------+---------+----------+--------------------+-----------+--------------+------------+-----+------------+--------+------------+-----------------------+--------------+----------------+---------------------+--------------+--------------+--------+--------------+------------+\n",
      "|           []|            None|   ClownCarActual|     1.495300014E9|                         null|                  null|                   []|                    null|             null|                   null|             text|     t2_1nf5u14|               false|         false|      []|Ok Karen.\n",
      "\n",
      "It’s f...|    true|       false|    false|                           null|            null|        null|               1| 1574007254|         None|  null|     0|      {}|f7tsn5x|       false|t3_dxl74n| false|     true| t3_dxl74n|/r/unpopularopini...|      false|          null|  1582041871|   -1|        true|   false|    t5_2tk0s|     r/unpopularopinion|        public|            null|                    0|          <NA>|          null|   false|           nan|      201911|\n",
      "|           []|            None|     Milqutragedy|              null|                         null|                  null|                   []|                    null|             null|                   null|             text|    t2_3o6ndc2i|               false|         false|      []|Every modern fema...|    true|       false|    false|                           null|            null|        null|               0| 1573986942|         None|  null|     0|      {}|f7rsxpp|       false|t3_dxdsfi| false|     true| t3_dxdsfi|/r/unpopularopini...|      false|          null|  1582005861|    1|        true|   false|    t5_2tk0s|     r/unpopularopinion|        public|            null|                    0|          <NA>|          null|   false|           nan|      201911|\n",
      "|           []|            None|        longgamma|     1.350234906E9|                         null|                  null|                   []|                    null|             null|                   null|             text|       t2_9atv3|               false|          true|      []|Well assuming the...|    true|       false|    false|                           null|            null|        null|               0| 1574254906|         None|  null|     0|      {}|f84mveb|       false|t3_dyrrwu| false|     true| t3_dyrrwu|/r/unpopularopini...|      false|          null|  1583450655|    1|        true|   false|    t5_2tk0s|     r/unpopularopinion|        public|            null|                    0|          <NA>|          null|   false|           nan|      201911|\n",
      "|           []|            None|        Mr_Rivera|     1.460491636E9|                         null|                  null|                   []|                    null|             null|                   null|             text|       t2_x4djs|               false|         false|      []|Most def!!!! She ...|    true|       false|    false|                           null|            null|        null|               0| 1574252863|         None|  null|     0|      {}|f84ku9z|       false|t3_dywm5j| false|    false|t1_f84kcaq|/r/unpopularopini...|      false|          null|  1583449564|   55|        true|   false|    t5_2tk0s|     r/unpopularopinion|        public|            null|                    0|          <NA>|          null|   false|           nan|      201911|\n",
      "|           []|            None|Jack-M-y-u-do-dis|     1.542318742E9|                         null|                  null|                   []|                    null|             null|                   null|             text|    t2_2ltsp5j1|               false|         false|      []|It’s really dumb ...|    true|       false|    false|                           null|            null|        null|               0| 1574257119|         None|  null|     0|      {}|f84pcc3|       false|t3_dyxan7| false|     true| t3_dyxan7|/r/unpopularopini...|      false|          null|  1583451988|    1|        true|   false|    t5_2tk0s|     r/unpopularopinion|        public|            null|                    0|          <NA>|          null|   false|           nan|      201911|\n",
      "+-------------+----------------+-----------------+------------------+-----------------------------+----------------------+---------------------+------------------------+-----------------+-----------------------+-----------------+---------------+--------------------+--------------+--------+--------------------+--------+------------+---------+-------------------------------+----------------+------------+----------------+-----------+-------------+------+------+--------+-------+------------+---------+------+---------+----------+--------------------+-----------+--------------+------------+-----+------------+--------+------------+-----------------------+--------------+----------------+---------------------+--------------+--------------+--------+--------------+------------+\n",
      "only showing top 5 rows\n",
      "\n"
     ]
    },
    {
     "name": "stderr",
     "output_type": "stream",
     "text": [
      "                                                                                \r"
     ]
    }
   ],
   "source": [
    "# view the first 5 rows\n",
    "df_full.show(5)"
   ]
  },
  {
   "cell_type": "markdown",
   "id": "aa55cc58-1620-41b2-8354-fefab89ad8a7",
   "metadata": {},
   "source": [
    "Difficult to see interpret this output. Let's convert this into a Pandas dataframe and view again. Will be using a sample of the full dataframe for this."
   ]
  },
  {
   "cell_type": "code",
   "execution_count": 14,
   "id": "75cde1e6-8ca6-43f2-bd88-9c42580f8ac5",
   "metadata": {},
   "outputs": [
    {
     "name": "stderr",
     "output_type": "stream",
     "text": [
      "                                                                                \r"
     ]
    },
    {
     "data": {
      "text/html": [
       "<div>\n",
       "<style scoped>\n",
       "    .dataframe tbody tr th:only-of-type {\n",
       "        vertical-align: middle;\n",
       "    }\n",
       "\n",
       "    .dataframe tbody tr th {\n",
       "        vertical-align: top;\n",
       "    }\n",
       "\n",
       "    .dataframe thead th {\n",
       "        text-align: right;\n",
       "    }\n",
       "</style>\n",
       "<table border=\"1\" class=\"dataframe\">\n",
       "  <thead>\n",
       "    <tr style=\"text-align: right;\">\n",
       "      <th></th>\n",
       "      <th>all_awardings</th>\n",
       "      <th>associated_award</th>\n",
       "      <th>author</th>\n",
       "      <th>author_created_utc</th>\n",
       "      <th>author_flair_background_color</th>\n",
       "      <th>author_flair_css_class</th>\n",
       "      <th>author_flair_richtext</th>\n",
       "      <th>author_flair_template_id</th>\n",
       "      <th>author_flair_text</th>\n",
       "      <th>author_flair_text_color</th>\n",
       "      <th>...</th>\n",
       "      <th>stickied</th>\n",
       "      <th>subreddit_id</th>\n",
       "      <th>subreddit_name_prefixed</th>\n",
       "      <th>subreddit_type</th>\n",
       "      <th>top_awarded_type</th>\n",
       "      <th>total_awards_received</th>\n",
       "      <th>treatment_tags</th>\n",
       "      <th>author_cakeday</th>\n",
       "      <th>editable</th>\n",
       "      <th>media_metadata</th>\n",
       "    </tr>\n",
       "  </thead>\n",
       "  <tbody>\n",
       "    <tr>\n",
       "      <th>1</th>\n",
       "      <td>[]</td>\n",
       "      <td>None</td>\n",
       "      <td>JacksMovingFinger</td>\n",
       "      <td>1.420157e+09</td>\n",
       "      <td>None</td>\n",
       "      <td>None</td>\n",
       "      <td>[]</td>\n",
       "      <td>None</td>\n",
       "      <td>None</td>\n",
       "      <td>None</td>\n",
       "      <td>...</td>\n",
       "      <td>False</td>\n",
       "      <td>t5_2tk0s</td>\n",
       "      <td>None</td>\n",
       "      <td>public</td>\n",
       "      <td>None</td>\n",
       "      <td>0</td>\n",
       "      <td>[]</td>\n",
       "      <td>None</td>\n",
       "      <td>None</td>\n",
       "      <td>nan</td>\n",
       "    </tr>\n",
       "    <tr>\n",
       "      <th>2</th>\n",
       "      <td>[]</td>\n",
       "      <td>None</td>\n",
       "      <td>drizzitdude</td>\n",
       "      <td>1.398159e+09</td>\n",
       "      <td>None</td>\n",
       "      <td>None</td>\n",
       "      <td>[]</td>\n",
       "      <td>None</td>\n",
       "      <td>None</td>\n",
       "      <td>None</td>\n",
       "      <td>...</td>\n",
       "      <td>False</td>\n",
       "      <td>t5_2tk0s</td>\n",
       "      <td>None</td>\n",
       "      <td>public</td>\n",
       "      <td>None</td>\n",
       "      <td>0</td>\n",
       "      <td>[]</td>\n",
       "      <td>None</td>\n",
       "      <td>None</td>\n",
       "      <td>nan</td>\n",
       "    </tr>\n",
       "    <tr>\n",
       "      <th>3</th>\n",
       "      <td>[]</td>\n",
       "      <td>None</td>\n",
       "      <td>gabrielmaster123</td>\n",
       "      <td>1.539273e+09</td>\n",
       "      <td>None</td>\n",
       "      <td>None</td>\n",
       "      <td>[]</td>\n",
       "      <td>None</td>\n",
       "      <td>None</td>\n",
       "      <td>None</td>\n",
       "      <td>...</td>\n",
       "      <td>False</td>\n",
       "      <td>t5_2tk0s</td>\n",
       "      <td>None</td>\n",
       "      <td>public</td>\n",
       "      <td>None</td>\n",
       "      <td>0</td>\n",
       "      <td>[]</td>\n",
       "      <td>None</td>\n",
       "      <td>None</td>\n",
       "      <td>nan</td>\n",
       "    </tr>\n",
       "    <tr>\n",
       "      <th>4</th>\n",
       "      <td>[]</td>\n",
       "      <td>None</td>\n",
       "      <td>[deleted]</td>\n",
       "      <td>NaN</td>\n",
       "      <td></td>\n",
       "      <td>None</td>\n",
       "      <td>nan</td>\n",
       "      <td>None</td>\n",
       "      <td>None</td>\n",
       "      <td>dark</td>\n",
       "      <td>...</td>\n",
       "      <td>False</td>\n",
       "      <td>t5_2tk0s</td>\n",
       "      <td>None</td>\n",
       "      <td>public</td>\n",
       "      <td>None</td>\n",
       "      <td>0</td>\n",
       "      <td>[]</td>\n",
       "      <td>None</td>\n",
       "      <td>None</td>\n",
       "      <td>nan</td>\n",
       "    </tr>\n",
       "  </tbody>\n",
       "</table>\n",
       "<p>4 rows × 50 columns</p>\n",
       "</div>"
      ],
      "text/plain": [
       "  all_awardings associated_award             author  author_created_utc  \\\n",
       "1            []             None  JacksMovingFinger        1.420157e+09   \n",
       "2            []             None        drizzitdude        1.398159e+09   \n",
       "3            []             None   gabrielmaster123        1.539273e+09   \n",
       "4            []             None          [deleted]                 NaN   \n",
       "\n",
       "  author_flair_background_color author_flair_css_class author_flair_richtext  \\\n",
       "1                          None                   None                    []   \n",
       "2                          None                   None                    []   \n",
       "3                          None                   None                    []   \n",
       "4                                                 None                   nan   \n",
       "\n",
       "  author_flair_template_id author_flair_text author_flair_text_color  ...  \\\n",
       "1                     None              None                    None  ...   \n",
       "2                     None              None                    None  ...   \n",
       "3                     None              None                    None  ...   \n",
       "4                     None              None                    dark  ...   \n",
       "\n",
       "  stickied subreddit_id subreddit_name_prefixed subreddit_type  \\\n",
       "1    False     t5_2tk0s                    None         public   \n",
       "2    False     t5_2tk0s                    None         public   \n",
       "3    False     t5_2tk0s                    None         public   \n",
       "4    False     t5_2tk0s                    None         public   \n",
       "\n",
       "  top_awarded_type total_awards_received  treatment_tags  author_cakeday  \\\n",
       "1             None                     0              []            None   \n",
       "2             None                     0              []            None   \n",
       "3             None                     0              []            None   \n",
       "4             None                     0              []            None   \n",
       "\n",
       "   editable media_metadata  \n",
       "1      None            nan  \n",
       "2      None            nan  \n",
       "3      None            nan  \n",
       "4      None            nan  \n",
       "\n",
       "[4 rows x 50 columns]"
      ]
     },
     "execution_count": 14,
     "metadata": {},
     "output_type": "execute_result"
    }
   ],
   "source": [
    "df_small.toPandas().iloc[1:5,:]"
   ]
  },
  {
   "cell_type": "code",
   "execution_count": 15,
   "id": "0207fa0b-79ed-4b3d-a50b-f13b87fd49e8",
   "metadata": {},
   "outputs": [
    {
     "name": "stdout",
     "output_type": "stream",
     "text": [
      "root\n",
      " |-- all_awardings: string (nullable = true)\n",
      " |-- associated_award: string (nullable = true)\n",
      " |-- author: string (nullable = true)\n",
      " |-- author_created_utc: double (nullable = true)\n",
      " |-- author_flair_background_color: string (nullable = true)\n",
      " |-- author_flair_css_class: string (nullable = true)\n",
      " |-- author_flair_richtext: string (nullable = true)\n",
      " |-- author_flair_template_id: string (nullable = true)\n",
      " |-- author_flair_text: string (nullable = true)\n",
      " |-- author_flair_text_color: string (nullable = true)\n",
      " |-- author_flair_type: string (nullable = true)\n",
      " |-- author_fullname: string (nullable = true)\n",
      " |-- author_patreon_flair: boolean (nullable = true)\n",
      " |-- author_premium: boolean (nullable = true)\n",
      " |-- awarders: string (nullable = true)\n",
      " |-- body: string (nullable = true)\n",
      " |-- can_gild: boolean (nullable = true)\n",
      " |-- can_mod_post: boolean (nullable = true)\n",
      " |-- collapsed: boolean (nullable = true)\n",
      " |-- collapsed_because_crowd_control: string (nullable = true)\n",
      " |-- collapsed_reason: string (nullable = true)\n",
      " |-- comment_type: string (nullable = true)\n",
      " |-- controversiality: long (nullable = true)\n",
      " |-- created_utc: long (nullable = true)\n",
      " |-- distinguished: string (nullable = true)\n",
      " |-- edited: double (nullable = true)\n",
      " |-- gilded: long (nullable = true)\n",
      " |-- gildings: string (nullable = true)\n",
      " |-- id: string (nullable = true)\n",
      " |-- is_submitter: boolean (nullable = true)\n",
      " |-- link_id: string (nullable = true)\n",
      " |-- locked: boolean (nullable = true)\n",
      " |-- no_follow: boolean (nullable = true)\n",
      " |-- parent_id: string (nullable = true)\n",
      " |-- permalink: string (nullable = true)\n",
      " |-- quarantined: boolean (nullable = true)\n",
      " |-- removal_reason: string (nullable = true)\n",
      " |-- retrieved_on: long (nullable = true)\n",
      " |-- score: long (nullable = true)\n",
      " |-- send_replies: boolean (nullable = true)\n",
      " |-- stickied: boolean (nullable = true)\n",
      " |-- subreddit_id: string (nullable = true)\n",
      " |-- subreddit_name_prefixed: string (nullable = true)\n",
      " |-- subreddit_type: string (nullable = true)\n",
      " |-- top_awarded_type: string (nullable = true)\n",
      " |-- total_awards_received: long (nullable = true)\n",
      " |-- treatment_tags: string (nullable = true)\n",
      " |-- author_cakeday: boolean (nullable = true)\n",
      " |-- editable: boolean (nullable = true)\n",
      " |-- media_metadata: string (nullable = true)\n",
      " |-- ym_partition: integer (nullable = true)\n",
      "\n"
     ]
    }
   ],
   "source": [
    "# print schema\n",
    "df_full.printSchema()"
   ]
  },
  {
   "cell_type": "code",
   "execution_count": 16,
   "id": "5c25ed12-9562-44d5-b30c-2d430a2923cb",
   "metadata": {},
   "outputs": [
    {
     "data": {
      "text/plain": [
       "51"
      ]
     },
     "execution_count": 16,
     "metadata": {},
     "output_type": "execute_result"
    }
   ],
   "source": [
    "# check number of columns\n",
    "len(df_full.columns)"
   ]
  },
  {
   "cell_type": "markdown",
   "id": "37b84659-6c09-4e44-ba18-3e066b923519",
   "metadata": {},
   "source": [
    "The dataset has 51 variables."
   ]
  },
  {
   "cell_type": "code",
   "execution_count": 17,
   "id": "392acb75-3bd3-456d-8c8d-b8b6b9488c4c",
   "metadata": {},
   "outputs": [
    {
     "data": {
      "text/plain": [
       "[('all_awardings', 'string'),\n",
       " ('associated_award', 'string'),\n",
       " ('author', 'string'),\n",
       " ('author_created_utc', 'double'),\n",
       " ('author_flair_background_color', 'string'),\n",
       " ('author_flair_css_class', 'string'),\n",
       " ('author_flair_richtext', 'string'),\n",
       " ('author_flair_template_id', 'string'),\n",
       " ('author_flair_text', 'string'),\n",
       " ('author_flair_text_color', 'string'),\n",
       " ('author_flair_type', 'string'),\n",
       " ('author_fullname', 'string'),\n",
       " ('author_patreon_flair', 'boolean'),\n",
       " ('author_premium', 'boolean'),\n",
       " ('awarders', 'string'),\n",
       " ('body', 'string'),\n",
       " ('can_gild', 'boolean'),\n",
       " ('can_mod_post', 'boolean'),\n",
       " ('collapsed', 'boolean'),\n",
       " ('collapsed_because_crowd_control', 'string'),\n",
       " ('collapsed_reason', 'string'),\n",
       " ('comment_type', 'string'),\n",
       " ('controversiality', 'bigint'),\n",
       " ('created_utc', 'bigint'),\n",
       " ('distinguished', 'string'),\n",
       " ('edited', 'double'),\n",
       " ('gilded', 'bigint'),\n",
       " ('gildings', 'string'),\n",
       " ('id', 'string'),\n",
       " ('is_submitter', 'boolean'),\n",
       " ('link_id', 'string'),\n",
       " ('locked', 'boolean'),\n",
       " ('no_follow', 'boolean'),\n",
       " ('parent_id', 'string'),\n",
       " ('permalink', 'string'),\n",
       " ('quarantined', 'boolean'),\n",
       " ('removal_reason', 'string'),\n",
       " ('retrieved_on', 'bigint'),\n",
       " ('score', 'bigint'),\n",
       " ('send_replies', 'boolean'),\n",
       " ('stickied', 'boolean'),\n",
       " ('subreddit_id', 'string'),\n",
       " ('subreddit_name_prefixed', 'string'),\n",
       " ('subreddit_type', 'string'),\n",
       " ('top_awarded_type', 'string'),\n",
       " ('total_awards_received', 'bigint'),\n",
       " ('treatment_tags', 'string'),\n",
       " ('author_cakeday', 'boolean'),\n",
       " ('editable', 'boolean'),\n",
       " ('media_metadata', 'string'),\n",
       " ('ym_partition', 'int')]"
      ]
     },
     "execution_count": 17,
     "metadata": {},
     "output_type": "execute_result"
    }
   ],
   "source": [
    "# check data types\n",
    "df_full.dtypes"
   ]
  },
  {
   "cell_type": "markdown",
   "id": "1836091e-8eb1-4cca-ac5f-e253627c5ca5",
   "metadata": {},
   "source": [
    "Most of the data seems to have the correct data type, but I will be exploring what the columns mean below and will assess the data type accordingly, changing it when needed."
   ]
  },
  {
   "cell_type": "code",
   "execution_count": 18,
   "id": "ca46200f-9b5e-4d23-b7aa-4408d024faaa",
   "metadata": {},
   "outputs": [
    {
     "name": "stderr",
     "output_type": "stream",
     "text": [
      "                                                                                \r"
     ]
    },
    {
     "name": "stdout",
     "output_type": "stream",
     "text": [
      "all_awardings 0\n",
      "associated_award 0\n"
     ]
    },
    {
     "name": "stderr",
     "output_type": "stream",
     "text": [
      "                                                                                \r"
     ]
    },
    {
     "name": "stdout",
     "output_type": "stream",
     "text": [
      "author 2\n"
     ]
    },
    {
     "name": "stderr",
     "output_type": "stream",
     "text": [
      "                                                                                \r"
     ]
    },
    {
     "name": "stdout",
     "output_type": "stream",
     "text": [
      "author_created_utc 19157122\n",
      "author_flair_background_color 34369570\n",
      "author_flair_css_class 39493734\n",
      "author_flair_richtext 0\n",
      "author_flair_template_id 39372864\n",
      "author_flair_text 39297538\n"
     ]
    },
    {
     "name": "stderr",
     "output_type": "stream",
     "text": [
      "                                                                                \r"
     ]
    },
    {
     "name": "stdout",
     "output_type": "stream",
     "text": [
      "author_flair_text_color 33472270\n",
      "author_flair_type 5825920\n"
     ]
    },
    {
     "name": "stderr",
     "output_type": "stream",
     "text": [
      "                                                                                \r"
     ]
    },
    {
     "name": "stdout",
     "output_type": "stream",
     "text": [
      "author_fullname 5825920\n",
      "author_patreon_flair 5825918\n",
      "author_premium 5461220\n",
      "awarders 1177174\n",
      "body 0\n",
      "can_gild 0\n",
      "can_mod_post 0\n",
      "collapsed 0\n",
      "collapsed_because_crowd_control 41321070\n",
      "collapsed_reason 40760694\n",
      "comment_type 41321070\n",
      "controversiality 0\n",
      "created_utc 0\n",
      "distinguished 21215840\n",
      "edited 39917266\n",
      "gilded 0\n",
      "gildings 0\n",
      "id 0\n",
      "is_submitter 0\n",
      "link_id 0\n",
      "locked 0\n",
      "no_follow 0\n",
      "parent_id 0\n",
      "permalink 0\n",
      "quarantined 0\n",
      "removal_reason 41321062\n",
      "retrieved_on 7829686\n",
      "score 0\n",
      "send_replies 0\n",
      "stickied 0\n",
      "subreddit_id 0\n",
      "subreddit_name_prefixed 7829686\n",
      "subreddit_type 0\n",
      "top_awarded_type 41321070\n",
      "total_awards_received 0\n",
      "treatment_tags 0\n",
      "author_cakeday 41183324\n",
      "editable 19406434\n",
      "media_metadata 10474\n",
      "ym_partition 0\n"
     ]
    }
   ],
   "source": [
    "# check for missing data\n",
    "for col in df_full.columns:\n",
    "    print(col, df_full.filter(df_full[col].isNull()).count())"
   ]
  },
  {
   "cell_type": "markdown",
   "id": "c453ff2b-6d3d-4cec-a6fd-45732d959052",
   "metadata": {},
   "source": [
    "There are many columns that have only missing values. I will be removing columns that have more than 80% (more than 33056856) missing values since these aren't adding too much information. "
   ]
  },
  {
   "cell_type": "code",
   "execution_count": 19,
   "id": "8b4109a9-b8f4-4690-9e60-281cfed098c6",
   "metadata": {},
   "outputs": [
    {
     "data": {
      "text/plain": [
       "33056856.0"
      ]
     },
     "execution_count": 19,
     "metadata": {},
     "output_type": "execute_result"
    }
   ],
   "source": [
    "# check 80% of count\n",
    "df_full.count() * 0.8"
   ]
  },
  {
   "cell_type": "code",
   "execution_count": 20,
   "id": "72167935-6c01-4cf1-824e-61b0310ddb46",
   "metadata": {},
   "outputs": [
    {
     "data": {
      "text/plain": [
       "39"
      ]
     },
     "execution_count": 20,
     "metadata": {},
     "output_type": "execute_result"
    }
   ],
   "source": [
    "# drop columns with more than 80% missing values\n",
    "df_full = df_full.drop(\n",
    "    \"collapsed_reason\",\n",
    "    \"collapsed_because_crowd_control\",\n",
    "    \"comment_type\",\n",
    "    \"author_cakeday\",\n",
    "    \"top_awarded_type\",\n",
    "    \"removal_reason\",\n",
    "    \"edited\",\n",
    "    \"author_flair_text\",\n",
    "    \"author_flair_template_id\",\n",
    "    \"author_flair_css_class\",\n",
    "    \"author_flair_text_color\",\n",
    "    \"author_flair_background_color\")\n",
    "\n",
    "# check number of columns\n",
    "len(df_full.columns)"
   ]
  },
  {
   "cell_type": "markdown",
   "id": "9bf1f582-5cc5-4ef3-813c-d09fe866adce",
   "metadata": {},
   "source": [
    "Since I am not a Reddit user, most of the column names do not make sense to me i.e. I cannot understand what they are trying to capture. Hence, I will try to use data dictionaries that I can find online. One such source is: https://github.com/ccaldarella99/NLP_and_Reddit\n",
    "\n",
    "Let's look at some variables and try to explore the data even further. "
   ]
  },
  {
   "cell_type": "markdown",
   "id": "1e8b4885-7265-4c10-9f52-b34a2eff8b52",
   "metadata": {},
   "source": [
    "#### `controversiality`"
   ]
  },
  {
   "cell_type": "code",
   "execution_count": 21,
   "id": "3dfdc33f-6dd4-4ac8-be71-047711852c8f",
   "metadata": {},
   "outputs": [
    {
     "name": "stderr",
     "output_type": "stream",
     "text": [
      "                                                                                \r"
     ]
    },
    {
     "data": {
      "text/plain": [
       "[Row(controversiality=1), Row(controversiality=0)]"
      ]
     },
     "execution_count": 21,
     "metadata": {},
     "output_type": "execute_result"
    }
   ],
   "source": [
    "# check unique values of controversiality column\n",
    "df_full.select('controversiality').distinct().limit(10).collect()"
   ]
  },
  {
   "cell_type": "markdown",
   "id": "6afba997-3e31-4e0a-a861-e8b7d23ee115",
   "metadata": {},
   "source": [
    "There are variables in my dataset that are not included in the data dictionary source mentioned above. One of these is the variable `controversiality`. Based on online information about the `controversiality` variable, it seems that a value of 0 means that a comment is \"not controversial\", while a value of 1 means that a comment is \"controversial\". Some sources state that a comment is controversial if it receives an almost equal amount of upvotes and downvotes.\n",
    "\n",
    "Source: https://www.reddit.com/r/redditdev/comments/29i58s/reddit_change_api_availability_controversiality/"
   ]
  },
  {
   "cell_type": "markdown",
   "id": "53cf1fba-7e05-421f-bb47-0feca214ff93",
   "metadata": {},
   "source": [
    "#### `distinguished`"
   ]
  },
  {
   "cell_type": "code",
   "execution_count": 22,
   "id": "f021fa36-e329-4ee7-acd1-24f6882b1cb0",
   "metadata": {},
   "outputs": [
    {
     "name": "stderr",
     "output_type": "stream",
     "text": [
      "                                                                                \r"
     ]
    },
    {
     "data": {
      "text/plain": [
       "[Row(distinguished=None),\n",
       " Row(distinguished='admin'),\n",
       " Row(distinguished='None'),\n",
       " Row(distinguished='moderator')]"
      ]
     },
     "execution_count": 22,
     "metadata": {},
     "output_type": "execute_result"
    }
   ],
   "source": [
    "df_full.select('distinguished').distinct().limit(10).collect()"
   ]
  },
  {
   "cell_type": "markdown",
   "id": "2769e04c-bc8e-4932-ac3f-b765fa764f03",
   "metadata": {},
   "source": [
    "Denotes the type of user on the page. Either moderator, admin, or None. Let's look at the count of each of these categories."
   ]
  },
  {
   "cell_type": "code",
   "execution_count": 23,
   "id": "4a21606b-562b-4842-937a-fc819519985b",
   "metadata": {},
   "outputs": [
    {
     "name": "stderr",
     "output_type": "stream",
     "text": [
      "                                                                                \r"
     ]
    },
    {
     "data": {
      "text/plain": [
       "[Row(distinguished=None, count=21215840),\n",
       " Row(distinguished='admin', count=2),\n",
       " Row(distinguished='None', count=19237702),\n",
       " Row(distinguished='moderator', count=867526)]"
      ]
     },
     "execution_count": 23,
     "metadata": {},
     "output_type": "execute_result"
    }
   ],
   "source": [
    "# view label counts\n",
    "df_full.groupby('distinguished').count().collect()"
   ]
  },
  {
   "cell_type": "markdown",
   "id": "134172f8-ffe4-4571-acd2-83d572b76594",
   "metadata": {},
   "source": [
    "Only 2 comments are by admins, therefore 'admin' is not an important category for data analysis. Let's remove it."
   ]
  },
  {
   "cell_type": "code",
   "execution_count": 24,
   "id": "8263d70e-0778-4019-98d4-435a263a1246",
   "metadata": {},
   "outputs": [
    {
     "name": "stderr",
     "output_type": "stream",
     "text": [
      "                                                                                \r"
     ]
    },
    {
     "data": {
      "text/plain": [
       "[Row(distinguished='None', count=19237702),\n",
       " Row(distinguished='moderator', count=867526)]"
      ]
     },
     "execution_count": 24,
     "metadata": {},
     "output_type": "execute_result"
    }
   ],
   "source": [
    "from pyspark.sql.functions import col\n",
    "\n",
    "# filter\n",
    "df_full = df_full.filter(col('distinguished').isin('None', 'moderator'))\n",
    "\n",
    "# check categories again\n",
    "df_full.groupby('distinguished').count().collect()"
   ]
  },
  {
   "cell_type": "markdown",
   "id": "87515c9e-05ad-4db5-8eec-7e52ccc92051",
   "metadata": {},
   "source": [
    "Most comments on the *unpopularopinion* subreddit are by users who are neither admins nor moderators. "
   ]
  },
  {
   "cell_type": "markdown",
   "id": "bb97a80b-f262-42f5-aa92-77f052d352cd",
   "metadata": {},
   "source": [
    "#### `created_utc`"
   ]
  },
  {
   "cell_type": "markdown",
   "id": "b99cf590-56a4-4f40-8ea3-39394cd1eccf",
   "metadata": {},
   "source": [
    "`created_utc` seems to indicate the date that the comment was created/posted. Let's try to see how many of these dates fell on a weekend."
   ]
  },
  {
   "cell_type": "code",
   "execution_count": 25,
   "id": "498ae24a-270d-412d-ba3a-2126c9431579",
   "metadata": {},
   "outputs": [
    {
     "data": {
      "text/plain": [
       "[('created_utc', 'timestamp')]"
      ]
     },
     "execution_count": 25,
     "metadata": {},
     "output_type": "execute_result"
    }
   ],
   "source": [
    "# change column data type to datetime\n",
    "df_full = df_full.withColumn(\"created_utc\", to_timestamp(\"created_utc\"))\n",
    "\n",
    "# check data type\n",
    "df_full[['created_utc']].dtypes"
   ]
  },
  {
   "cell_type": "code",
   "execution_count": 26,
   "id": "1017d42d-a376-49bf-9557-cfe183d0dcbf",
   "metadata": {},
   "outputs": [
    {
     "name": "stderr",
     "output_type": "stream",
     "text": [
      "                                                                                \r"
     ]
    },
    {
     "data": {
      "text/plain": [
       "[Row(is_weekend=1, count=5275470), Row(is_weekend=0, count=14829758)]"
      ]
     },
     "execution_count": 26,
     "metadata": {},
     "output_type": "execute_result"
    }
   ],
   "source": [
    "from pyspark.sql.functions import dayofweek\n",
    "\n",
    "# create dummy variable for if created_utc appears on a weekend or not\n",
    "df_full = df_full.withColumn(\"is_weekend\", dayofweek(\"created_utc\").isin([1,7]).cast(\"int\"))\n",
    "\n",
    "# view label count\n",
    "df_full.groupby('is_weekend').count().collect()"
   ]
  },
  {
   "cell_type": "markdown",
   "id": "f0e7a1a6-e764-48f8-a50d-057edec951af",
   "metadata": {},
   "source": [
    "Most comments were posted on weekdays (this makes sense since weekdays outnumber weekends in a given week). "
   ]
  },
  {
   "cell_type": "markdown",
   "id": "1144cc43-66e1-4e90-9d04-8367b52aa925",
   "metadata": {},
   "source": [
    "### Comments over time\n",
    "\n",
    "Let's try to look at how the number of comments varied over time."
   ]
  },
  {
   "cell_type": "code",
   "execution_count": 27,
   "id": "01d8960f-9562-4b1f-b985-d47b062e458f",
   "metadata": {},
   "outputs": [],
   "source": [
    "# store only the date in a new column\n",
    "df_full = df_full.withColumn(\"date_only\", f.to_date(f.col(\"created_utc\")))"
   ]
  },
  {
   "cell_type": "markdown",
   "id": "25504903-1577-49ce-b2f7-25d64d665625",
   "metadata": {},
   "source": [
    "Using the whole dataset and converting it into a Pandas dataframe to visualize results in the following error: *TaskKilled: Tasks result size has exceeded maxResultSize*. Therefore, I will be using data for one month (*df*), assuming that it's representative of the full dataset. "
   ]
  },
  {
   "cell_type": "code",
   "execution_count": 28,
   "id": "76f4bffe-7835-4906-8953-15b8d50cb9f2",
   "metadata": {},
   "outputs": [],
   "source": [
    "### get df ready\n",
    "\n",
    "# change column data type to datetime\n",
    "df = df.withColumn(\"created_utc\", to_timestamp(\"created_utc\"))\n",
    "\n",
    "# check data type\n",
    "df[['created_utc']].dtypes\n",
    "\n",
    "# store only the date in a new column\n",
    "df = df.withColumn(\"date_only\", f.to_date(f.col(\"created_utc\")))"
   ]
  },
  {
   "cell_type": "code",
   "execution_count": 29,
   "id": "aa8c4a20-a3c2-4d95-b6cb-ff5bc6ef7093",
   "metadata": {},
   "outputs": [
    {
     "name": "stderr",
     "output_type": "stream",
     "text": [
      "                                                                                \r"
     ]
    },
    {
     "data": {
      "text/plain": [
       "Text(0, 0.5, 'Number of Comments')"
      ]
     },
     "execution_count": 29,
     "metadata": {},
     "output_type": "execute_result"
    },
    {
     "data": {
      "image/png": "[encoded data removed]",
      "text/plain": [
       "<Figure size 432x288 with 1 Axes>"
      ]
     },
     "metadata": {
      "needs_background": "light"
     },
     "output_type": "display_data"
    }
   ],
   "source": [
    "# visualize\n",
    "df.toPandas()[['id','date_only']].sort_values(by ='date_only').groupby(by = 'date_only').count().plot(y ='id', rot = 45, label = '# of comments')\n",
    "plt.title('Number of Comments Over Time')\n",
    "plt.xlabel('Date') \n",
    "plt.ylabel('Number of Comments')"
   ]
  },
  {
   "cell_type": "markdown",
   "id": "00ed0d1b-545b-4506-87bd-17fe602a2b81",
   "metadata": {},
   "source": [
    "Most comments were posted at the start of the month, with the lowest number of comments posted towards the very end. "
   ]
  },
  {
   "cell_type": "markdown",
   "id": "cdc89af3-d6d5-4ad5-a9dd-8c25a845cef5",
   "metadata": {},
   "source": [
    "#### `score`"
   ]
  },
  {
   "cell_type": "markdown",
   "id": "cbc03746-9cdc-4245-8c46-d36a171dfb6c",
   "metadata": {},
   "source": [
    "Now let's explore the `score` variable. According to the data dictionary source linked above, this is the score (or karma) of the comment. What is karma? \"You get Reddit Post Karma when people upvote anything that you post; you lose it when you get downvoted.\" (https://www.makeuseof.com/tag/what-is-reddit-karma/#:~:text=Reddit%20Karma%20is%20a%20score,Karma%20runs%20into%20the%20millions.)\n",
    "\n",
    "Let's see the descriptive statistics of this variable."
   ]
  },
  {
   "cell_type": "code",
   "execution_count": 30,
   "id": "36e6bc08-733a-422b-a74c-5f58526769e3",
   "metadata": {},
   "outputs": [
    {
     "name": "stderr",
     "output_type": "stream",
     "text": [
      "[Stage 197:>                                                        (0 + 1) / 1]\r"
     ]
    },
    {
     "name": "stdout",
     "output_type": "stream",
     "text": [
      "+-------+-----------------+\n",
      "|summary|            score|\n",
      "+-------+-----------------+\n",
      "|   mean|4.208884972605135|\n",
      "|    25%|                1|\n",
      "|    50%|                1|\n",
      "|    75%|                2|\n",
      "|  count|         20105228|\n",
      "|    min|            -1913|\n",
      "|    max|            17492|\n",
      "+-------+-----------------+\n",
      "\n"
     ]
    },
    {
     "name": "stderr",
     "output_type": "stream",
     "text": [
      "                                                                                \r"
     ]
    }
   ],
   "source": [
    "df_full.select(\"score\").summary(\"mean\", \"25%\", \"50%\", \"75%\", \"count\", \"min\", \"max\").show()"
   ]
  },
  {
   "cell_type": "code",
   "execution_count": 31,
   "id": "0901e646-dadc-4aa5-8d98-764ccf2cc3ea",
   "metadata": {},
   "outputs": [
    {
     "name": "stderr",
     "output_type": "stream",
     "text": [
      "                                                                                \r"
     ]
    },
    {
     "data": {
      "text/plain": [
       "1193012"
      ]
     },
     "execution_count": 31,
     "metadata": {},
     "output_type": "execute_result"
    }
   ],
   "source": [
    "# view the count of negative scores\n",
    "df_full.filter(f.col(\"score\") < 0).count()"
   ]
  },
  {
   "cell_type": "markdown",
   "id": "54e69b21-3740-4bcc-97df-abe2f17cf755",
   "metadata": {},
   "source": [
    "The minimum value is negative (which is possible if there are more downvotes than upvotes for a comment). We can also see that the negative score is not a one-off event, since over 1 million comments have a negative score. \n",
    "\n",
    "The data also shows that on average, comments in the *unpopularopinion* subreddit receive a positive response (i.e. more upvotes than downvotes), as indicated by the positive mean."
   ]
  },
  {
   "cell_type": "markdown",
   "id": "ce1a3568-dd4f-4647-a261-9291c79413b9",
   "metadata": {},
   "source": [
    "#### `total_awards_received`"
   ]
  },
  {
   "cell_type": "markdown",
   "id": "05c636dd-8821-48a2-aa71-d3274b2bd477",
   "metadata": {},
   "source": [
    "The variable `total_awards_received` denotes the number of awards received by the author of the comment. "
   ]
  },
  {
   "cell_type": "code",
   "execution_count": 32,
   "id": "2b0915a5-94b8-428a-af8a-2d699d21bea5",
   "metadata": {},
   "outputs": [
    {
     "name": "stderr",
     "output_type": "stream",
     "text": [
      "[Stage 201:======================================================>(61 + 1) / 62]\r"
     ]
    },
    {
     "name": "stdout",
     "output_type": "stream",
     "text": [
      "+-------+---------------------+\n",
      "|summary|total_awards_received|\n",
      "+-------+---------------------+\n",
      "|   mean| 0.001893835772466...|\n",
      "|    25%|                    0|\n",
      "|    50%|                    0|\n",
      "|    75%|                    0|\n",
      "|  count|             20105228|\n",
      "|    min|                    0|\n",
      "|    max|                  141|\n",
      "+-------+---------------------+\n",
      "\n"
     ]
    },
    {
     "name": "stderr",
     "output_type": "stream",
     "text": [
      "                                                                                \r"
     ]
    }
   ],
   "source": [
    "df_full.select(\"total_awards_received\").summary(\"mean\", \"25%\", \"50%\", \"75%\", \"count\", \"min\", \"max\").show()"
   ]
  },
  {
   "cell_type": "markdown",
   "id": "ba2c82da-15dd-43f8-a1c3-267e0c1da471",
   "metadata": {},
   "source": [
    "The maximum number of awards received by an author of a comment are 141. Given the extremely low mean, it seems like awards are not earned easily in reddit. "
   ]
  },
  {
   "cell_type": "markdown",
   "id": "b7e7e7a2-b8ff-442b-a7b0-37acb1a65a30",
   "metadata": {},
   "source": [
    "Let's see the correlation between this and the score of the comment. Again, I will be using the *df* dataset, with the assumption that it's a representative sample of the full dataset."
   ]
  },
  {
   "cell_type": "code",
   "execution_count": 33,
   "id": "a543bbb8-fa4e-4c46-8a3f-45828e501a03",
   "metadata": {},
   "outputs": [
    {
     "name": "stderr",
     "output_type": "stream",
     "text": [
      "                                                                                \r"
     ]
    },
    {
     "data": {
      "text/plain": [
       "Text(0, 0.5, 'Total Awards of Comment Author')"
      ]
     },
     "execution_count": 33,
     "metadata": {},
     "output_type": "execute_result"
    },
    {
     "data": {
      "image/png": "[encoded data removed]",
      "text/plain": [
       "<Figure size 432x288 with 1 Axes>"
      ]
     },
     "metadata": {
      "needs_background": "light"
     },
     "output_type": "display_data"
    }
   ],
   "source": [
    "# visualize (scatter plot)\n",
    "df.toPandas()[['total_awards_received','score']].plot.scatter(x='score', y='total_awards_received')\n",
    "plt.title('Total Awards vs Score')\n",
    "plt.xlabel('Comment Score') \n",
    "plt.ylabel('Total Awards of Comment Author') "
   ]
  },
  {
   "cell_type": "markdown",
   "id": "cd77575c-b4b8-4fd9-b893-afee7b5ab980",
   "metadata": {},
   "source": [
    "Overall, we can see that most comments in the *unpopularopinion* subreddit are posted by authors with less than 10 awards, followed by authors with awards between 10 and 15. The two comments with the highest scores are by authors with the lowest or close to the lowest number of awards. However, the comment with the third highest score is by an author with approximately 30 awards, so the correlation between the two variables doesn't seem too strong. \n",
    "\n",
    "We can also see that the highest number of awards (in the sample data that we are looking at), was more than 80, whereas the highest score was close to 14,000. \n",
    "\n",
    "Let's check the actual correlation."
   ]
  },
  {
   "cell_type": "code",
   "execution_count": 34,
   "id": "7f18fcb2-3f3a-4537-9c50-780b94d5adce",
   "metadata": {},
   "outputs": [
    {
     "name": "stderr",
     "output_type": "stream",
     "text": [
      "                                                                                \r"
     ]
    },
    {
     "data": {
      "text/html": [
       "<div>\n",
       "<style scoped>\n",
       "    .dataframe tbody tr th:only-of-type {\n",
       "        vertical-align: middle;\n",
       "    }\n",
       "\n",
       "    .dataframe tbody tr th {\n",
       "        vertical-align: top;\n",
       "    }\n",
       "\n",
       "    .dataframe thead th {\n",
       "        text-align: right;\n",
       "    }\n",
       "</style>\n",
       "<table border=\"1\" class=\"dataframe\">\n",
       "  <thead>\n",
       "    <tr style=\"text-align: right;\">\n",
       "      <th></th>\n",
       "      <th>total_awards_received</th>\n",
       "      <th>score</th>\n",
       "    </tr>\n",
       "  </thead>\n",
       "  <tbody>\n",
       "    <tr>\n",
       "      <th>total_awards_received</th>\n",
       "      <td>1.000000</td>\n",
       "      <td>0.347342</td>\n",
       "    </tr>\n",
       "    <tr>\n",
       "      <th>score</th>\n",
       "      <td>0.347342</td>\n",
       "      <td>1.000000</td>\n",
       "    </tr>\n",
       "  </tbody>\n",
       "</table>\n",
       "</div>"
      ],
      "text/plain": [
       "                       total_awards_received     score\n",
       "total_awards_received               1.000000  0.347342\n",
       "score                               0.347342  1.000000"
      ]
     },
     "execution_count": 34,
     "metadata": {},
     "output_type": "execute_result"
    }
   ],
   "source": [
    "# view correlation\n",
    "df.toPandas()[['total_awards_received','score']].corr()"
   ]
  },
  {
   "cell_type": "markdown",
   "id": "ed307f9f-3e17-4afb-b927-c15349f1b133",
   "metadata": {},
   "source": [
    "Checking the actual correlation confirms what we saw in the scatterplot i.e. the correlation between total awards received by an author and the score of a comment is poor. This means that if one value goes up it does not mean that the other will.\n",
    "\n",
    "Let's confirm that the sample dataset was a good represenation of the full dataset in this regard by calculating the correlation using the full dataset."
   ]
  },
  {
   "cell_type": "code",
   "execution_count": 35,
   "id": "f637a2f5-93c1-4f71-98f6-135c6fb60dbb",
   "metadata": {},
   "outputs": [
    {
     "name": "stderr",
     "output_type": "stream",
     "text": [
      "                                                                                \r"
     ]
    },
    {
     "data": {
      "text/plain": [
       "0.26096244306829003"
      ]
     },
     "execution_count": 35,
     "metadata": {},
     "output_type": "execute_result"
    }
   ],
   "source": [
    "df_full.corr('total_awards_received', 'score')"
   ]
  },
  {
   "cell_type": "markdown",
   "id": "328586b5-cc2c-43df-8792-d6af2f772981",
   "metadata": {},
   "source": [
    "This correlation is close to the correlation figure of the sample dataset. "
   ]
  },
  {
   "cell_type": "markdown",
   "id": "f7ea5067-2058-4061-9499-73696a47fc1f",
   "metadata": {},
   "source": [
    "#### `gilded`"
   ]
  },
  {
   "cell_type": "code",
   "execution_count": 36,
   "id": "0444b8db-fb11-431e-8325-cf5c861f343d",
   "metadata": {},
   "outputs": [
    {
     "name": "stderr",
     "output_type": "stream",
     "text": [
      "                                                                                \r"
     ]
    },
    {
     "data": {
      "text/plain": [
       "[Row(gilded=5),\n",
       " Row(gilded=6),\n",
       " Row(gilded=9),\n",
       " Row(gilded=1),\n",
       " Row(gilded=3),\n",
       " Row(gilded=2),\n",
       " Row(gilded=0),\n",
       " Row(gilded=7),\n",
       " Row(gilded=8),\n",
       " Row(gilded=4)]"
      ]
     },
     "execution_count": 36,
     "metadata": {},
     "output_type": "execute_result"
    }
   ],
   "source": [
    "# check unique values of gilded column\n",
    "df_full.select('gilded').distinct().limit(10).collect()"
   ]
  },
  {
   "cell_type": "code",
   "execution_count": 37,
   "id": "23a8cc49-38b4-4e82-a0ac-d28fc9ac0b3e",
   "metadata": {},
   "outputs": [
    {
     "name": "stdout",
     "output_type": "stream",
     "text": [
      "+-------+--------------------+\n",
      "|summary|              gilded|\n",
      "+-------+--------------------+\n",
      "|   mean|1.976600315102121...|\n",
      "|  count|            20105228|\n",
      "|    min|                   0|\n",
      "|    max|                   9|\n",
      "+-------+--------------------+\n",
      "\n"
     ]
    },
    {
     "name": "stderr",
     "output_type": "stream",
     "text": [
      "                                                                                \r"
     ]
    }
   ],
   "source": [
    "# check descriptive stats\n",
    "df_full.select(\"gilded\").summary(\"mean\", \"count\", \"min\", \"max\").show()"
   ]
  },
  {
   "cell_type": "markdown",
   "id": "189c9ccb-43e0-4dc2-9051-491437cb0d8e",
   "metadata": {},
   "source": [
    "What is the `gilded` column showing? \"Gilding or giving gold is an award you can give to someone on their post or comment.\" (https://www.reddit.com/r/TrophyWiki/comments/f0ps2c/reddit_trophy_gilding_ixi_all_gilding_trophies/).\n",
    "\n",
    "Based on the figures above, it seems that the maximum gildings that someone has received on their comment (on the *unpopularopinion* subreddit) is 9, while the lowest is 0. On average, posts have almost 2 gildings. "
   ]
  },
  {
   "cell_type": "markdown",
   "id": "5baf529d-eeb3-45ea-82fb-c1769dbdc81c",
   "metadata": {},
   "source": [
    "#### `gildings`"
   ]
  },
  {
   "cell_type": "code",
   "execution_count": 38,
   "id": "2a4088ed-0102-465c-9aeb-7feac68c60fe",
   "metadata": {},
   "outputs": [
    {
     "name": "stderr",
     "output_type": "stream",
     "text": [
      "                                                                                \r"
     ]
    },
    {
     "data": {
      "text/plain": [
       "[Row(gildings='{}'),\n",
       " Row(gildings=\"{'gid_1': 4, 'gid_3': 1}\"),\n",
       " Row(gildings=\"{'gid_1': 5, 'gid_2': 2, 'gid_3': 1}\"),\n",
       " Row(gildings=\"{'gid_1': 1, 'gid_2': 1, 'gid_3': 1}\"),\n",
       " Row(gildings=\"{'gid_1': 7, 'gid_2': 3, 'gid_3': 1}\"),\n",
       " Row(gildings=\"{'gid_1': 4, 'gid_2': 1, 'gid_3': 1}\"),\n",
       " Row(gildings=\"{'gid_1': 2, 'gid_2': 2, 'gid_3': 1}\"),\n",
       " Row(gildings=\"{'gid_2': 1, 'gid_3': 2}\"),\n",
       " Row(gildings=\"{'gid_3': 1}\"),\n",
       " Row(gildings=\"{'gid_1': 4, 'gid_2': 1}\")]"
      ]
     },
     "execution_count": 38,
     "metadata": {},
     "output_type": "execute_result"
    }
   ],
   "source": [
    "# check unique values of gildings column\n",
    "df_full.select('gildings').distinct().limit(10).collect()"
   ]
  },
  {
   "cell_type": "markdown",
   "id": "d4b7fd31-58b1-4384-a8fb-9c4dec9b3538",
   "metadata": {},
   "source": [
    "What is the `gildings` column showing? \n",
    "\n",
    "Based on what I have read about gildings and the 'data dictionary' source above, my interpretation is that this variable is capturing gildings that the author of the comment has/received. So {'gid_1': 1} would mean the author has received one guilding 1 title, and {'gid_2': 3} means the author has received 3 guilding 2 titles. "
   ]
  },
  {
   "cell_type": "markdown",
   "id": "73004555-0640-4927-8ed0-8876eb0d9b98",
   "metadata": {},
   "source": [
    "### Correlation"
   ]
  },
  {
   "cell_type": "markdown",
   "id": "53590f96-9d75-41bd-940d-24e8cfe35ca1",
   "metadata": {},
   "source": [
    "Let's look at the correlation of all variables in the dataset. Once again, I'll be using the smaller dataset (for one month) with the assumption that it is a representative sample of the full dataset. "
   ]
  },
  {
   "cell_type": "code",
   "execution_count": 39,
   "id": "00bfbc19-9f68-4c03-8402-637fa49172b4",
   "metadata": {},
   "outputs": [
    {
     "name": "stderr",
     "output_type": "stream",
     "text": [
      "                                                                                \r"
     ]
    },
    {
     "data": {
      "text/plain": [
       "<AxesSubplot:>"
      ]
     },
     "execution_count": 39,
     "metadata": {},
     "output_type": "execute_result"
    },
    {
     "data": {
      "image/png": "[encoded data removed]",
      "text/plain": [
       "<Figure size 1080x576 with 2 Axes>"
      ]
     },
     "metadata": {
      "needs_background": "light"
     },
     "output_type": "display_data"
    }
   ],
   "source": [
    "# visualize correlation matrix\n",
    "plt.figure(figsize = (15,8))\n",
    "sb.heatmap(df.toPandas().corr(), cmap=\"Blues\", annot=True)"
   ]
  },
  {
   "cell_type": "markdown",
   "id": "2a6daf43-09d6-4ae5-8065-8a3857d0b2bb",
   "metadata": {},
   "source": [
    "The strongest (almost perfect) correlation is between `locked` and `stickied`. `locked` denotes whether the thread (which the comment is a part of) has been locked, while `stickied` denotes 'sticky posts' (which are announcements, not posts). Based on the almost perfect correlation, a significant and positive relationship exists between the two.\n",
    "\n",
    "The correlation between `locked` and `send_replies` (which denotes whether the author of the comment accepts replies) is moderate (-0.47). The negative correlation indicates that there is a moderate, negative relationship between these two variables.\n",
    "\n",
    "As we saw earlier, the correlation between `score` and `total_awards_received` denotes a positive but weak relationship between the two variables. We can also see that the correlation between `total_awards_received` and `gilded` is positive and weak."
   ]
  },
  {
   "cell_type": "markdown",
   "id": "419627a0-ede9-4847-8b52-e58c474c366b",
   "metadata": {},
   "source": [
    "### Text"
   ]
  },
  {
   "cell_type": "markdown",
   "id": "657b23e0-cbcd-44f0-8b49-1532127f9194",
   "metadata": {},
   "source": [
    "Get a quick peek at the data at the `body` column, which seems to denote the main text of the comment:"
   ]
  },
  {
   "cell_type": "code",
   "execution_count": 40,
   "id": "1afa75e1-2540-41c1-85e4-e35da20366b3",
   "metadata": {},
   "outputs": [
    {
     "name": "stderr",
     "output_type": "stream",
     "text": [
      "[Stage 226:>                                                        (0 + 1) / 1]\r"
     ]
    },
    {
     "name": "stdout",
     "output_type": "stream",
     "text": [
      "+--------------------+\n",
      "|                body|\n",
      "+--------------------+\n",
      "|Ok Karen.\n",
      "\n",
      "It’s f...|\n",
      "|Every modern fema...|\n",
      "|Well assuming the...|\n",
      "|Most def!!!! She ...|\n",
      "|It’s really dumb ...|\n",
      "+--------------------+\n",
      "only showing top 5 rows\n",
      "\n"
     ]
    },
    {
     "name": "stderr",
     "output_type": "stream",
     "text": [
      "                                                                                \r"
     ]
    }
   ],
   "source": [
    "df_full[['body']].show(5)"
   ]
  },
  {
   "cell_type": "markdown",
   "id": "b9b6a923-bb58-40f0-bda6-5a600c479195",
   "metadata": {},
   "source": [
    "Can't view the whole text - let's try again and view the full text of 5 rows. "
   ]
  },
  {
   "cell_type": "code",
   "execution_count": 41,
   "id": "bbfce25f-bdb9-4399-9f8d-4f078d31eb4c",
   "metadata": {},
   "outputs": [
    {
     "name": "stderr",
     "output_type": "stream",
     "text": [
      "                                                                                \r"
     ]
    },
    {
     "data": {
      "text/plain": [
       "['Ok Karen.\\n\\nIt’s funny when people like you get ignored at the bar, and then wonder why they aren’t getting service.\\n\\nI bet you love to make tons of special requests and changes to items on the menu.\\n\\nKeep your broke ass at home if you can’t afford to tip your server. - serious advice - if you can’t afford to tip $1.50 on a $10.00 meal; stay the fuck home and save your money.',\n",
       " 'Every modern female character has to have a scene showing how “competent” they are or else women everywhere will lose all the self-confidence they have or something',\n",
       " 'Well assuming the story was true, the three guys can seriously lawyer up and sue the company for unfair dismissal. Who the fuck gets fired for hearsay? If that is the case the the HR department really messed it up. I mean literally anyone could get anyone fired in that company. \\n\\nUsually the wrong doing has to be proven beyond doubt and they just fired the guys without given them a chance to defend themselves. The OP in that post was a complete asshole who went out of her way to get three people fired.',\n",
       " 'Most def!!!! She was baddass in that.',\n",
       " 'It’s really dumb how it’s not celebrated.']"
      ]
     },
     "execution_count": 41,
     "metadata": {},
     "output_type": "execute_result"
    }
   ],
   "source": [
    "list(df_full.withColumn('ID', f.monotonically_increasing_id()).sort('ID').limit(10).toPandas().iloc[0:5,:].body.values)"
   ]
  },
  {
   "cell_type": "markdown",
   "id": "e8292a99-2e54-466c-89b7-651fd6139775",
   "metadata": {},
   "source": [
    "### Pre-processing Text\n"
   ]
  },
  {
   "cell_type": "code",
   "execution_count": 42,
   "id": "759271cb-2567-4360-a59b-da6f646081d1",
   "metadata": {},
   "outputs": [],
   "source": [
    "from pyspark.sql.functions import lower\n",
    "from pyspark.ml.feature import Tokenizer"
   ]
  },
  {
   "cell_type": "markdown",
   "id": "89a50aac-d115-45a0-bff7-33684043c7fd",
   "metadata": {},
   "source": [
    "#### Convert to lower case"
   ]
  },
  {
   "cell_type": "code",
   "execution_count": 43,
   "id": "51c1c599-b596-4343-9df2-ccf59397db34",
   "metadata": {},
   "outputs": [],
   "source": [
    "# convert text column to lower case \n",
    "df_full = df_full.withColumn('body', lower(df_full.body))"
   ]
  },
  {
   "cell_type": "markdown",
   "id": "4778a89e-1ced-4537-85f0-b93cdaf9da22",
   "metadata": {},
   "source": [
    "### Top Nouns"
   ]
  },
  {
   "cell_type": "markdown",
   "id": "40dafd4a-087d-45fb-afa4-f91c8c9fae43",
   "metadata": {},
   "source": [
    "Create a binary variable that indicates whether the comment text contains one or more of the top 3 nouns of the unpopularopinion subreddit. As of May 3, 2022, these three top nouns were people, kids, and women (https://sandhoefner.github.io/reddit/)."
   ]
  },
  {
   "cell_type": "code",
   "execution_count": 44,
   "id": "ac1b3fa9-9108-467a-93cc-587b6bc252f9",
   "metadata": {},
   "outputs": [],
   "source": [
    "# create a binary variable \n",
    "df_full = df_full.withColumn(\"top_nouns\",f.when((df_full.body.contains('people')) | (df_full.body.contains('women')) | (df_full.body.contains('kids')), 1).otherwise(0))\n"
   ]
  },
  {
   "cell_type": "code",
   "execution_count": 45,
   "id": "f5c8ac6e-bbeb-40d7-bcf4-b3b6eaa802f2",
   "metadata": {},
   "outputs": [
    {
     "name": "stderr",
     "output_type": "stream",
     "text": [
      "                                                                                \r"
     ]
    },
    {
     "data": {
      "text/plain": [
       "[Row(top_nouns=1, count=3739552), Row(top_nouns=0, count=16365676)]"
      ]
     },
     "execution_count": 45,
     "metadata": {},
     "output_type": "execute_result"
    }
   ],
   "source": [
    "# check label counts\n",
    "df_full.groupby('top_nouns').count().collect()"
   ]
  },
  {
   "cell_type": "markdown",
   "id": "24ad2b51-81c2-4084-9afa-d92d2de3d06d",
   "metadata": {},
   "source": [
    "Over 3 million comments use one or more of the top 3 nouns. "
   ]
  },
  {
   "cell_type": "markdown",
   "id": "b0e6c76a-f198-4fdf-81fb-2c4b36162c6b",
   "metadata": {},
   "source": [
    "### Word Count\n",
    "\n",
    "Create a column storing the word count of each comment (including stop words since I am interested in looking at the length of a comment, which can be increased using stop words)."
   ]
  },
  {
   "cell_type": "markdown",
   "id": "c73e0ccf-4d6c-45eb-95e4-d0e285409ca6",
   "metadata": {},
   "source": [
    "**1. Tokenize the comment**\n",
    "\n",
    "Tokenization is the process of taking text (such as a sentence) and breaking it into individual terms (usually words). Let's tokenize the messages and create a list of words of each message."
   ]
  },
  {
   "cell_type": "code",
   "execution_count": 46,
   "id": "6b34b590-33ec-4ef6-b528-cbbf43efa8bb",
   "metadata": {},
   "outputs": [],
   "source": [
    "# store tokenizer\n",
    "tokenizer = Tokenizer(inputCol = \"body\", outputCol = \"words\")\n",
    "\n",
    "# transform text column\n",
    "df_full = tokenizer.transform(df_full)"
   ]
  },
  {
   "cell_type": "code",
   "execution_count": 47,
   "id": "caf48297-02f0-467b-aa3b-43f340c0acbe",
   "metadata": {},
   "outputs": [],
   "source": [
    "df_full = df_full.withColumn('word_count', f.size(f.col('words')))"
   ]
  },
  {
   "cell_type": "code",
   "execution_count": 48,
   "id": "292073e9-579f-46ee-b16f-dde31729fa05",
   "metadata": {},
   "outputs": [
    {
     "name": "stderr",
     "output_type": "stream",
     "text": [
      "                                                                                \r"
     ]
    },
    {
     "name": "stdout",
     "output_type": "stream",
     "text": [
      "+-------+-----------------+\n",
      "|summary|       word_count|\n",
      "+-------+-----------------+\n",
      "|   mean|34.38919071198794|\n",
      "|  count|         20105228|\n",
      "|    min|                1|\n",
      "|    max|             2792|\n",
      "+-------+-----------------+\n",
      "\n"
     ]
    }
   ],
   "source": [
    "# check descriptive stats\n",
    "df_full.select(\"word_count\").summary(\"mean\", \"count\", \"min\", \"max\").show()"
   ]
  },
  {
   "cell_type": "markdown",
   "id": "b5a0d087-2c67-4b6a-93e7-1b743651ac4e",
   "metadata": {},
   "source": [
    "The maximum word count is 2792, whereas the average comment has around 34 words (including stop words). "
   ]
  },
  {
   "cell_type": "markdown",
   "id": "d268f4f0-9ca8-4406-830d-bf714f7b6bd0",
   "metadata": {},
   "source": []
  },
  {
   "cell_type": "markdown",
   "id": "a1d02096-e733-4d21-82f1-6c83762e4581",
   "metadata": {},
   "source": [
    "----"
   ]
  },
  {
   "cell_type": "markdown",
   "id": "9d0ea689-84da-4d64-a622-768d6886e05b",
   "metadata": {},
   "source": [
    "## Model 1 - Decision Tree Regressor"
   ]
  },
  {
   "cell_type": "code",
   "execution_count": 49,
   "id": "43934403-6668-4ac6-8613-57cc65172e09",
   "metadata": {},
   "outputs": [],
   "source": [
    "from pyspark.ml.feature import OneHotEncoder, StringIndexer, IndexToString, VectorAssembler\n",
    "from pyspark.ml import Pipeline\n",
    "from pyspark.ml.regression import DecisionTreeRegressor\n",
    "from pyspark.ml.classification import DecisionTreeClassifier\n",
    "from pyspark.ml.feature import VectorIndexer\n",
    "from pyspark.ml.evaluation import RegressionEvaluator"
   ]
  },
  {
   "cell_type": "markdown",
   "id": "ac385026-b7b2-4e01-aa70-95d5f627bbc8",
   "metadata": {},
   "source": [
    "---"
   ]
  },
  {
   "cell_type": "markdown",
   "id": "93ead299-b7b7-48a7-aad8-e432ea7d515f",
   "metadata": {},
   "source": [
    "### Model\n",
    "*y*: score (int)\n",
    "\n",
    "*x*:\n",
    "- word_count\n",
    "- top_nouns\n",
    "- total_awards_received\n",
    "- gilded\n",
    "- is_weekend\n",
    "- controversiality\n",
    "- distinguished"
   ]
  },
  {
   "cell_type": "code",
   "execution_count": 50,
   "id": "1167ce94-88f7-49f9-aad2-3de3d7a5a266",
   "metadata": {},
   "outputs": [],
   "source": [
    "# select only the relevant variables for the model and store \n",
    "df1 = df_full[['score','word_count', 'top_nouns', 'total_awards_received','gilded',\n",
    "               'is_weekend', 'controversiality', 'distinguished']]"
   ]
  },
  {
   "cell_type": "markdown",
   "id": "9ced36ae-5ca0-435e-9c14-acd0b62d9bc0",
   "metadata": {},
   "source": [
    "Remove the remaining missing data so that the dataset can be split into a training and test set. "
   ]
  },
  {
   "cell_type": "code",
   "execution_count": 51,
   "id": "9333046b-565d-4688-8c82-0ad6f31ba09b",
   "metadata": {},
   "outputs": [],
   "source": [
    "# remove missing data\n",
    "df1 = df1.dropna()"
   ]
  },
  {
   "cell_type": "markdown",
   "id": "ea8db6ae-a900-4b67-a602-0c7b2473272c",
   "metadata": {},
   "source": [
    "### Split Data into Train and Test Sets"
   ]
  },
  {
   "cell_type": "code",
   "execution_count": 52,
   "id": "e648d5a9-7e7e-469b-9e2b-62385ccbc52c",
   "metadata": {},
   "outputs": [],
   "source": [
    "train_data, test_data = df1.randomSplit([0.8, 0.2], 24)"
   ]
  },
  {
   "cell_type": "markdown",
   "id": "e84f68e1-fc9e-41de-818a-75cb06ad0df5",
   "metadata": {},
   "source": [
    "View the number of rows in training and test data:"
   ]
  },
  {
   "cell_type": "code",
   "execution_count": 53,
   "id": "82666e7f-d91c-4707-93c2-3efd2dc5f7d5",
   "metadata": {},
   "outputs": [
    {
     "name": "stderr",
     "output_type": "stream",
     "text": [
      "                                                                                \r"
     ]
    },
    {
     "name": "stdout",
     "output_type": "stream",
     "text": [
      "Number of training records: 16083948\n"
     ]
    },
    {
     "name": "stderr",
     "output_type": "stream",
     "text": [
      "[Stage 238:======================================================>(61 + 1) / 62]\r"
     ]
    },
    {
     "name": "stdout",
     "output_type": "stream",
     "text": [
      "Number of testing records : 4021280\n"
     ]
    },
    {
     "name": "stderr",
     "output_type": "stream",
     "text": [
      "                                                                                \r"
     ]
    }
   ],
   "source": [
    "print(\"Number of training records: \" + str(train_data.count()))\n",
    "print(\"Number of testing records : \" + str(test_data.count()))"
   ]
  },
  {
   "cell_type": "markdown",
   "id": "4e0f970d-034f-43f3-be68-a8d23bc13b15",
   "metadata": {},
   "source": [
    "`distinguished`"
   ]
  },
  {
   "cell_type": "code",
   "execution_count": 54,
   "id": "f5325c7a-35a5-4899-a00c-67dff0e8a54f",
   "metadata": {},
   "outputs": [
    {
     "name": "stderr",
     "output_type": "stream",
     "text": [
      "                                                                                \r"
     ]
    }
   ],
   "source": [
    "# convert string to numeric indices\n",
    "stringIndexer_distinguished = StringIndexer(inputCol = \"distinguished\",\n",
    "                                            outputCol = \"distinguished_ix\")\n",
    "\n",
    "### training data\n",
    "# fit StringIndexer\n",
    "dist_fit = stringIndexer_distinguished.fit(train_data)\n",
    "train_data = dist_fit.transform(train_data)\n",
    "\n",
    "### test data\n",
    "# fit StringIndexer\n",
    "dist_fit = stringIndexer_distinguished.fit(test_data)\n",
    "test_data = dist_fit.transform(test_data)"
   ]
  },
  {
   "cell_type": "markdown",
   "id": "356751ab-1964-4e19-848c-89a2af81ad91",
   "metadata": {},
   "source": [
    "#### Vector Assembler\n",
    "\n",
    "In the following step, create a feature vector by combining all the features together using the `vectorAssembler` method."
   ]
  },
  {
   "cell_type": "code",
   "execution_count": 55,
   "id": "e88e1b09-562c-4286-b6d2-b06d08b303b4",
   "metadata": {},
   "outputs": [],
   "source": [
    "vectorAssembler_features = VectorAssembler(inputCols = ['word_count', 'top_nouns', 'total_awards_received',\n",
    "                                                        'gilded', 'is_weekend', 'controversiality',\n",
    "                                                        'distinguished_ix'], \n",
    "    outputCol = \"features\")"
   ]
  },
  {
   "cell_type": "code",
   "execution_count": 56,
   "id": "8a0486a2-be15-400e-92d7-870f09a4e9cf",
   "metadata": {},
   "outputs": [],
   "source": [
    "# apply vector assembler - training data\n",
    "train_data1 = vectorAssembler_features.transform(train_data)"
   ]
  },
  {
   "cell_type": "code",
   "execution_count": 57,
   "id": "00e6b342-5d8b-4c67-aad7-157d95d17693",
   "metadata": {},
   "outputs": [],
   "source": [
    "# apply vector assembler - test data\n",
    "test_data1 = vectorAssembler_features.transform(test_data)"
   ]
  },
  {
   "cell_type": "code",
   "execution_count": 58,
   "id": "d9286af2-7589-459e-b200-b9d5bbf21889",
   "metadata": {},
   "outputs": [
    {
     "name": "stderr",
     "output_type": "stream",
     "text": [
      "[Stage 247:>                                                        (0 + 1) / 1]\r"
     ]
    },
    {
     "name": "stdout",
     "output_type": "stream",
     "text": [
      "+--------------------+-----+\n",
      "|            features|score|\n",
      "+--------------------+-----+\n",
      "|       (7,[0],[6.0])| -309|\n",
      "|      (7,[0],[26.0])| -293|\n",
      "|(7,[0,4],[15.0,1.0])| -234|\n",
      "+--------------------+-----+\n",
      "only showing top 3 rows\n",
      "\n"
     ]
    },
    {
     "name": "stderr",
     "output_type": "stream",
     "text": [
      "                                                                                \r"
     ]
    }
   ],
   "source": [
    "# view data\n",
    "train_data1.select(['features','score']).show(3)"
   ]
  },
  {
   "cell_type": "code",
   "execution_count": 59,
   "id": "c97ae0b2-c9cc-4fe7-bb41-589350fbebc8",
   "metadata": {},
   "outputs": [],
   "source": [
    "# define decision tree regressor\n",
    "dt = DecisionTreeRegressor(featuresCol = \"features\", labelCol = \"score\")"
   ]
  },
  {
   "cell_type": "code",
   "execution_count": 60,
   "id": "1689e5ac-8cf3-4d1e-9348-73fdef2de174",
   "metadata": {},
   "outputs": [
    {
     "name": "stderr",
     "output_type": "stream",
     "text": [
      "                                                                                \r"
     ]
    }
   ],
   "source": [
    "# fit decision tree regressor on training data \n",
    "model_dt = dt.fit(train_data1)"
   ]
  },
  {
   "cell_type": "code",
   "execution_count": 61,
   "id": "28fb0e62-2098-4efc-a4b6-392fbf13c572",
   "metadata": {},
   "outputs": [],
   "source": [
    "# make predictions\n",
    "predictions = model_dt.transform(test_data1)"
   ]
  },
  {
   "cell_type": "code",
   "execution_count": 62,
   "id": "60e1d671-57de-49d2-b027-fb08dfbacf3f",
   "metadata": {},
   "outputs": [
    {
     "name": "stderr",
     "output_type": "stream",
     "text": [
      "[Stage 262:>                                                        (0 + 1) / 1]\r"
     ]
    },
    {
     "name": "stdout",
     "output_type": "stream",
     "text": [
      "+----------------+-----+--------------------+\n",
      "|      prediction|score|            features|\n",
      "+----------------+-----+--------------------+\n",
      "|4.28985315572926| -142|      (7,[0],[11.0])|\n",
      "|4.28985315572926| -119|      (7,[0],[56.0])|\n",
      "|4.28985315572926|  -99|       (7,[0],[6.0])|\n",
      "|4.28985315572926|  -92|(7,[0,1],[89.0,1.0])|\n",
      "|4.28985315572926|  -73|(7,[0,1],[32.0,1.0])|\n",
      "+----------------+-----+--------------------+\n",
      "only showing top 5 rows\n",
      "\n"
     ]
    },
    {
     "name": "stderr",
     "output_type": "stream",
     "text": [
      "                                                                                \r"
     ]
    }
   ],
   "source": [
    "# select example rows to display\n",
    "predictions.select(\"prediction\", \"score\", \"features\").show(5)"
   ]
  },
  {
   "cell_type": "code",
   "execution_count": 63,
   "id": "f046cb5d-111b-45a8-8de9-abafc9b144e6",
   "metadata": {},
   "outputs": [
    {
     "name": "stderr",
     "output_type": "stream",
     "text": [
      "[Stage 263:======================================================>(61 + 1) / 62]\r"
     ]
    },
    {
     "name": "stdout",
     "output_type": "stream",
     "text": [
      "Root Mean Squared Error (RMSE) on test data = 50.8886\n"
     ]
    },
    {
     "name": "stderr",
     "output_type": "stream",
     "text": [
      "                                                                                \r"
     ]
    }
   ],
   "source": [
    "# select (prediction, true label) and compute test error\n",
    "evaluator = RegressionEvaluator(\n",
    "    labelCol = \"score\",\n",
    "    predictionCol = \"prediction\",\n",
    "    metricName = \"rmse\")\n",
    "\n",
    "rmse = evaluator.evaluate(predictions)\n",
    "print(\"Root Mean Squared Error (RMSE) on test data = %g\" % rmse)"
   ]
  },
  {
   "cell_type": "markdown",
   "id": "5d8ad309-84f5-4f4d-afd3-e713e7c1e4ca",
   "metadata": {},
   "source": [
    "The decision tree regressor has no summary object, but we can look at the root mean squared error. Although it seems high, the RSME is context-dependent. In this case, since scores have a wide range, an error of approximately 51 is not too bad, although it itsn't great either. "
   ]
  },
  {
   "cell_type": "markdown",
   "id": "7169bb8e-62c3-4ea0-bb6b-8daef03c50cd",
   "metadata": {},
   "source": [
    "## Model 2 - Random Forest Classifier\n",
    "\n",
    "Now, let's create a binary variable with a value of 1 if the score of the comment is above average, and 0 if it is equal to or below average. This would be our *y*.\n",
    "\n",
    "The independent variables would include all of the previous ones. It should be noted that the text was pre-processed and vectorized and added as an independent variable. However, that led to extremely long running time for the models, so I decided not to include that.  "
   ]
  },
  {
   "cell_type": "code",
   "execution_count": 64,
   "id": "3ab9201c-2a98-4b94-9723-46e00a62b906",
   "metadata": {},
   "outputs": [],
   "source": [
    "# select only the relevant variables for the model and store \n",
    "df2 = df_full[['score', 'word_count', 'top_nouns', 'total_awards_received','gilded',\n",
    "               'is_weekend', 'controversiality', 'distinguished']]"
   ]
  },
  {
   "cell_type": "code",
   "execution_count": 65,
   "id": "35a311eb-5075-45c1-a1b9-f953358fa575",
   "metadata": {},
   "outputs": [
    {
     "name": "stderr",
     "output_type": "stream",
     "text": [
      "[Stage 265:==================================>                   (40 + 22) / 62]\r"
     ]
    },
    {
     "name": "stdout",
     "output_type": "stream",
     "text": [
      "+-------+-----------------+\n",
      "|summary|            score|\n",
      "+-------+-----------------+\n",
      "|   mean|4.208884972605135|\n",
      "|    min|            -1913|\n",
      "|    max|            17492|\n",
      "+-------+-----------------+\n",
      "\n"
     ]
    },
    {
     "name": "stderr",
     "output_type": "stream",
     "text": [
      "                                                                                \r"
     ]
    }
   ],
   "source": [
    "# check average of score column\n",
    "df2.select(\"score\").summary(\"mean\", \"min\", \"max\").show()"
   ]
  },
  {
   "cell_type": "markdown",
   "id": "a0070ae2-7f34-42f0-860f-97540b4d1076",
   "metadata": {},
   "source": [
    "The average score is 4.2. Comments with a score greater than this will be labeled 1, whereas those with a score less than or equal to 4.2 will be labeled 0. "
   ]
  },
  {
   "cell_type": "code",
   "execution_count": 66,
   "id": "010052d7-2467-48cd-b25e-99b82239617e",
   "metadata": {},
   "outputs": [],
   "source": [
    "# create and store label column\n",
    "df2 = df2.withColumn(\"label\",\n",
    "                     f.when((df2.score > 4.2), 1).otherwise(0))"
   ]
  },
  {
   "cell_type": "code",
   "execution_count": 67,
   "id": "0f60bd05-d8b4-4020-9568-c3fada0e3961",
   "metadata": {},
   "outputs": [
    {
     "name": "stdout",
     "output_type": "stream",
     "text": [
      "root\n",
      " |-- score: long (nullable = true)\n",
      " |-- word_count: integer (nullable = false)\n",
      " |-- top_nouns: integer (nullable = false)\n",
      " |-- total_awards_received: long (nullable = true)\n",
      " |-- gilded: long (nullable = true)\n",
      " |-- is_weekend: integer (nullable = true)\n",
      " |-- controversiality: long (nullable = true)\n",
      " |-- distinguished: string (nullable = true)\n",
      " |-- label: integer (nullable = false)\n",
      "\n"
     ]
    }
   ],
   "source": [
    "# check Schema\n",
    "df2.printSchema()"
   ]
  },
  {
   "cell_type": "code",
   "execution_count": 68,
   "id": "78f1e057-0a1e-4cf4-88e2-3990738b5b40",
   "metadata": {},
   "outputs": [
    {
     "name": "stderr",
     "output_type": "stream",
     "text": [
      "                                                                                \r"
     ]
    },
    {
     "data": {
      "text/plain": [
       "[Row(label=1, count=2554288), Row(label=0, count=17550940)]"
      ]
     },
     "execution_count": 68,
     "metadata": {},
     "output_type": "execute_result"
    }
   ],
   "source": [
    "# check label counts\n",
    "df2.groupby('label').count().collect()"
   ]
  },
  {
   "cell_type": "code",
   "execution_count": 69,
   "id": "ca373172-8b7b-43ae-81d1-4ec820d79fa3",
   "metadata": {},
   "outputs": [],
   "source": [
    "# remove missing data\n",
    "df2 = df2.dropna()"
   ]
  },
  {
   "cell_type": "code",
   "execution_count": 70,
   "id": "67817e91-c8ae-4547-a440-ba0bc706c294",
   "metadata": {},
   "outputs": [
    {
     "name": "stderr",
     "output_type": "stream",
     "text": [
      "                                                                                \r"
     ]
    },
    {
     "data": {
      "text/plain": [
       "6.871167229380555"
      ]
     },
     "execution_count": 70,
     "metadata": {},
     "output_type": "execute_result"
    }
   ],
   "source": [
    "# store the majority and minority class counts\n",
    "ratio = (df2.filter(df2.label == 0).count() / df2.filter(df2.label == 1).count())\n",
    "\n",
    "# view ratio\n",
    "ratio"
   ]
  },
  {
   "cell_type": "markdown",
   "id": "66161b83-1b6d-4724-a5e4-e6f6252fdb5e",
   "metadata": {},
   "source": [
    "The dataset is imbalanced since which can cause the model to blindly predict the dominant class since it can achieve good accuracy that wat. To combat this, I will be undersampling the majority class (where `label` = 0)."
   ]
  },
  {
   "cell_type": "code",
   "execution_count": 71,
   "id": "73e55370-ebcd-4703-a154-95a895969ad8",
   "metadata": {},
   "outputs": [
    {
     "name": "stderr",
     "output_type": "stream",
     "text": [
      "[Stage 277:>                                                        (0 + 1) / 1]\r"
     ]
    },
    {
     "name": "stdout",
     "output_type": "stream",
     "text": [
      "+-----+----------+---------+---------------------+------+----------+----------------+-------------+-----+\n",
      "|score|word_count|top_nouns|total_awards_received|gilded|is_weekend|controversiality|distinguished|label|\n",
      "+-----+----------+---------+---------------------+------+----------+----------------+-------------+-----+\n",
      "|    1|        27|        1|                    0|     0|         1|               0|         None|    0|\n",
      "|    0|         9|        0|                    0|     0|         1|               0|         None|    0|\n",
      "+-----+----------+---------+---------------------+------+----------+----------------+-------------+-----+\n",
      "only showing top 2 rows\n",
      "\n"
     ]
    },
    {
     "name": "stderr",
     "output_type": "stream",
     "text": [
      "                                                                                \r"
     ]
    }
   ],
   "source": [
    "# store majority and minority class\n",
    "major_df = df2.filter(df2.label == 0)\n",
    "minor_df = df2.filter(df2.label == 1)\n",
    "\n",
    "# undersample majority class\n",
    "sampled_majority_df = major_df.sample(False, 1/ratio)\n",
    "combined_df_2 = sampled_majority_df.unionAll(minor_df)\n",
    "combined_df_2.show(2)"
   ]
  },
  {
   "cell_type": "markdown",
   "id": "7639827a-a564-4e0e-a2a7-e45805ecb25c",
   "metadata": {},
   "source": [
    "### Split Data into Train and Test Sets"
   ]
  },
  {
   "cell_type": "code",
   "execution_count": 72,
   "id": "df353cba-5df8-4976-8261-16952336ea66",
   "metadata": {},
   "outputs": [],
   "source": [
    "train_data, test_data = combined_df_2.randomSplit([0.8, 0.2], 24)"
   ]
  },
  {
   "cell_type": "code",
   "execution_count": 73,
   "id": "11559ee9-6683-4e3d-908f-3541cdf902dd",
   "metadata": {},
   "outputs": [
    {
     "name": "stderr",
     "output_type": "stream",
     "text": [
      "                                                                                \r"
     ]
    },
    {
     "name": "stdout",
     "output_type": "stream",
     "text": [
      "Number of training records: 4084175\n"
     ]
    },
    {
     "name": "stderr",
     "output_type": "stream",
     "text": [
      "[Stage 281:====================================================>(123 + 1) / 124]\r"
     ]
    },
    {
     "name": "stdout",
     "output_type": "stream",
     "text": [
      "Number of testing records : 1022857\n"
     ]
    },
    {
     "name": "stderr",
     "output_type": "stream",
     "text": [
      "                                                                                \r"
     ]
    }
   ],
   "source": [
    "print(\"Number of training records: \" + str(train_data.count()))\n",
    "print(\"Number of testing records : \" + str(test_data.count()))"
   ]
  },
  {
   "cell_type": "markdown",
   "id": "c10ad4f2-5f89-49a5-8c05-20917a890d3f",
   "metadata": {},
   "source": [
    "`distinguished`"
   ]
  },
  {
   "cell_type": "code",
   "execution_count": 74,
   "id": "90f41082-8491-438b-8a0e-b4e55d9bcd33",
   "metadata": {},
   "outputs": [
    {
     "name": "stderr",
     "output_type": "stream",
     "text": [
      "                                                                                \r"
     ]
    }
   ],
   "source": [
    "# convert string to numeric indices\n",
    "stringIndexer_distinguished = StringIndexer(inputCol = \"distinguished\",\n",
    "                                            outputCol = \"distinguished_ix\")\n",
    "\n",
    "### training data\n",
    "# fit StringIndexer\n",
    "dist_fit = stringIndexer_distinguished.fit(train_data)\n",
    "train_data = dist_fit.transform(train_data)\n",
    "\n",
    "### test data\n",
    "# fit StringIndexer\n",
    "dist_fit = stringIndexer_distinguished.fit(test_data)\n",
    "test_data = dist_fit.transform(test_data)"
   ]
  },
  {
   "cell_type": "markdown",
   "id": "01519b1e-15b1-4fc8-8b60-28e80e4e7216",
   "metadata": {},
   "source": [
    "#### Fitting Model"
   ]
  },
  {
   "cell_type": "code",
   "execution_count": 75,
   "id": "88ccf23f-78fc-4228-8147-0bfde6f7a8fa",
   "metadata": {},
   "outputs": [],
   "source": [
    "from pyspark.ml.evaluation import BinaryClassificationEvaluator\n",
    "from pyspark.ml.tuning import CrossValidator, ParamGridBuilder\n",
    "import numpy as np"
   ]
  },
  {
   "cell_type": "code",
   "execution_count": 76,
   "id": "88d2ab4e-6061-4f90-8eaa-d91a046da51c",
   "metadata": {},
   "outputs": [],
   "source": [
    "vectorAssembler_features = VectorAssembler(inputCols = ['word_count', 'top_nouns', 'total_awards_received',\n",
    "                                                        'gilded', 'is_weekend', 'controversiality',\n",
    "                                                        'distinguished_ix'], \n",
    "    outputCol = \"features\")"
   ]
  },
  {
   "cell_type": "code",
   "execution_count": 77,
   "id": "000b9554-1729-48f0-94a0-8eb6e1f0620b",
   "metadata": {},
   "outputs": [],
   "source": [
    "# apply vector assembler - training data\n",
    "train_data1 = vectorAssembler_features.transform(train_data)"
   ]
  },
  {
   "cell_type": "code",
   "execution_count": 78,
   "id": "9129a3f1-f5fe-47b7-953a-ca69850dde79",
   "metadata": {},
   "outputs": [],
   "source": [
    "# apply vector assembler - test data\n",
    "test_data1 = vectorAssembler_features.transform(test_data)"
   ]
  },
  {
   "cell_type": "code",
   "execution_count": 79,
   "id": "d2df532e-c951-4c7a-9961-f240c751b01b",
   "metadata": {},
   "outputs": [
    {
     "name": "stderr",
     "output_type": "stream",
     "text": [
      "[Stage 290:>                                                        (0 + 1) / 1]\r"
     ]
    },
    {
     "name": "stdout",
     "output_type": "stream",
     "text": [
      "+--------------------+-----+\n",
      "|            features|label|\n",
      "+--------------------+-----+\n",
      "|       (7,[0],[3.0])|    0|\n",
      "|(7,[0,4],[34.0,1.0])|    0|\n",
      "| (7,[0,4],[9.0,1.0])|    0|\n",
      "+--------------------+-----+\n",
      "only showing top 3 rows\n",
      "\n"
     ]
    },
    {
     "name": "stderr",
     "output_type": "stream",
     "text": [
      "                                                                                \r"
     ]
    }
   ],
   "source": [
    "# view data\n",
    "train_data1.select(['features','label']).show(3)"
   ]
  },
  {
   "cell_type": "code",
   "execution_count": 80,
   "id": "74711b4e-1639-4132-aed4-5422eb679256",
   "metadata": {},
   "outputs": [],
   "source": [
    "from pyspark.ml.classification import RandomForestClassifier\n",
    "\n",
    "# specify RF classifier\n",
    "rf = RandomForestClassifier(labelCol=\"label\", featuresCol=\"features\", numTrees=20)"
   ]
  },
  {
   "cell_type": "code",
   "execution_count": 81,
   "id": "1b4983ad-9036-4edf-a1bf-7ec4d78985af",
   "metadata": {},
   "outputs": [
    {
     "name": "stderr",
     "output_type": "stream",
     "text": [
      "                                                                                \r"
     ]
    }
   ],
   "source": [
    "# fit model\n",
    "model_rf = rf.fit(train_data1)"
   ]
  },
  {
   "cell_type": "code",
   "execution_count": 82,
   "id": "00441111-5ba9-4d47-a522-a71142af70c0",
   "metadata": {},
   "outputs": [],
   "source": [
    "# make predictions\n",
    "predictions = model_rf.transform(test_data1)"
   ]
  },
  {
   "cell_type": "code",
   "execution_count": 83,
   "id": "c2c2dc16-c6df-4133-8f3c-60f9fe5b8dc7",
   "metadata": {},
   "outputs": [
    {
     "name": "stderr",
     "output_type": "stream",
     "text": [
      "                                                                                \r"
     ]
    },
    {
     "data": {
      "text/plain": [
       "0.6072257897520338"
      ]
     },
     "execution_count": 83,
     "metadata": {},
     "output_type": "execute_result"
    }
   ],
   "source": [
    "# evaluation\n",
    "area_under_roc = BinaryClassificationEvaluator().setLabelCol(\"label\").setMetricName(\"areaUnderROC\")\n",
    "area_under_roc.evaluate(predictions)"
   ]
  },
  {
   "cell_type": "markdown",
   "id": "5484b57e-c6d6-4b27-ab5c-f66b0736c5f6",
   "metadata": {},
   "source": [
    "An excellent model has AUC near to 1, a poor model has AUC near 0, whereas an AUC of 0.5 means that the model has no class separation capacity whatsoever. Based on this, the model's AUC of 0.6 shows the the model has some class separation capacity, but is not very strong. "
   ]
  },
  {
   "cell_type": "code",
   "execution_count": 84,
   "id": "6f3a8634-2cd9-45cb-b5f6-7c899dffc357",
   "metadata": {},
   "outputs": [
    {
     "name": "stderr",
     "output_type": "stream",
     "text": [
      "                                                                                \r"
     ]
    },
    {
     "data": {
      "text/plain": [
       "0.5304826603699209"
      ]
     },
     "execution_count": 84,
     "metadata": {},
     "output_type": "execute_result"
    }
   ],
   "source": [
    "# MulticlassClassificationEvaluator can be used for binary classification as well\n",
    "from pyspark.ml.evaluation import MulticlassClassificationEvaluator\n",
    "\n",
    "f1score = MulticlassClassificationEvaluator().setLabelCol(\"label\").setMetricName('f1')\n",
    "f1score.evaluate(predictions)"
   ]
  },
  {
   "cell_type": "markdown",
   "id": "343168a0-f64a-43c4-aeb9-b530491f4a3f",
   "metadata": {},
   "source": [
    "The best F1 score is 1 and the worst is 0. 0.5 is in the middle, but interpreting it requires looking at the research question. "
   ]
  },
  {
   "cell_type": "code",
   "execution_count": 85,
   "id": "dc9ab166-aaa5-471e-b445-609ec4e23ba9",
   "metadata": {},
   "outputs": [
    {
     "name": "stderr",
     "output_type": "stream",
     "text": [
      "                                                                                \r"
     ]
    },
    {
     "data": {
      "text/plain": [
       "0.5838910033367323"
      ]
     },
     "execution_count": 85,
     "metadata": {},
     "output_type": "execute_result"
    }
   ],
   "source": [
    "accuracy = MulticlassClassificationEvaluator().setLabelCol(\"label\").setMetricName('accuracy')\n",
    "accuracy.evaluate(predictions)"
   ]
  },
  {
   "cell_type": "markdown",
   "id": "cc9bc6df-4b8c-4cb0-bfec-32d3944051b2",
   "metadata": {},
   "source": [
    "Out of all data points, approximately 58% were predicted correctly. This is better than chance, but not a very strong performance."
   ]
  },
  {
   "cell_type": "code",
   "execution_count": null,
   "id": "3c479f65-aba4-49a1-93c6-6d44e8ffbb88",
   "metadata": {},
   "outputs": [],
   "source": []
  },
  {
   "cell_type": "code",
   "execution_count": null,
   "id": "8e902908-ff16-4964-977d-49cff6a48097",
   "metadata": {},
   "outputs": [],
   "source": []
  },
  {
   "cell_type": "markdown",
   "id": "68115617-36bc-4239-9d8f-164919b4db2e",
   "metadata": {},
   "source": [
    "### Stop EMR "
   ]
  },
  {
   "cell_type": "code",
   "execution_count": null,
   "id": "1ef5040b-7a77-4249-80e7-f51b013284af",
   "metadata": {},
   "outputs": [],
   "source": [
    "spark.stop()"
   ]
  }
 ],
 "metadata": {
  "kernelspec": {
   "display_name": "Python 3 (ipykernel)",
   "language": "python",
   "name": "python3"
  },
  "language_info": {
   "codemirror_mode": {
    "name": "ipython",
    "version": 3
   },
   "file_extension": ".py",
   "mimetype": "text/x-python",
   "name": "python",
   "nbconvert_exporter": "python",
   "pygments_lexer": "ipython3",
   "version": "3.7.11"
  }
 },
 "nbformat": 4,
 "nbformat_minor": 5
}
